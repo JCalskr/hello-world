{
  "cells": [
    {
      "cell_type": "markdown",
      "metadata": {
        "id": "view-in-github",
        "colab_type": "text"
      },
      "source": [
        "<a href=\"https://colab.research.google.com/github/JCalskr/hello-world/blob/main/FinalProject_JCalderon.ipynb\" target=\"_parent\"><img src=\"https://colab.research.google.com/assets/colab-badge.svg\" alt=\"Open In Colab\"/></a>"
      ]
    },
    {
      "cell_type": "markdown",
      "metadata": {
        "id": "27iL23VgK4IP"
      },
      "source": [
        "# **Geospatial Analysis with Python and R (LTOM.02.041)**"
      ]
    },
    {
      "cell_type": "markdown",
      "metadata": {
        "id": "rR_LMfGaLpmc"
      },
      "source": [
        "## **Final Project Assignment**\n",
        "Jorge Alberto Calderon Enamorado"
      ]
    },
    {
      "cell_type": "markdown",
      "source": [
        "This study focuses on the classification of average precipitation during the rainy (December to May) and dry (June to November) seasons for the year 2020 in the Amazon River basins. For this purpose, rasters provided by WorldClim will be used. Information on the Amazon River was obtained from NASA-LBA-ECO CD-06 Amazon River Basin Land and Stream Drainage Direction Maps, watershed boundaries were acquired from HydroBASINS, while country boundaries were sourced by Natural Earth. In addition, the calculation of zonal raster statistics will be carried out to compare data between seasons."
      ],
      "metadata": {
        "id": "61vxhM7jv7cE"
      }
    },
    {
      "cell_type": "markdown",
      "metadata": {
        "id": "hgnPIkluK_6o"
      },
      "source": [
        "## **Problem 1: Spatial analysis and visualize a static map with multiple layers on it (10 points)**"
      ]
    },
    {
      "cell_type": "markdown",
      "source": [
        "# Library *Imports & Install*"
      ],
      "metadata": {
        "id": "ztvLgbTNodID"
      }
    },
    {
      "cell_type": "code",
      "source": [
        "!pip install wget\n",
        "!pip install mapclassify\n",
        "!pip install rasterstats\n",
        "!pip install rioxarray\n",
        "!pip install rasterio\n",
        "\n",
        "import wget\n",
        "import pooch\n",
        "import geopandas as gpd\n",
        "import pandas as pd\n",
        "\n",
        "import zipfile\n",
        "import os\n",
        "import glob\n",
        "import re\n",
        "\n",
        "import rasterio\n",
        "from rasterio.merge import merge\n",
        "from rasterio.enums import Resampling\n",
        "from rasterio import mask\n",
        "\n",
        "import rioxarray as rxr\n",
        "\n",
        "from rasterstats import zonal_stats\n",
        "\n",
        "import mapclassify as mc\n",
        "from mapclassify import Quantiles\n",
        "\n",
        "import matplotlib.patches as mpatches\n",
        "import matplotlib.pyplot as plt\n",
        "import matplotlib.cm as cm\n",
        "import matplotlib.pyplot as plt\n",
        "from matplotlib import gridspec\n",
        "\n",
        "import numpy as np\n",
        "\n",
        "import collections"
      ],
      "metadata": {
        "colab": {
          "base_uri": "https://localhost:8080/"
        },
        "id": "4L02qUL-nY8C",
        "outputId": "4eb5ffef-e39c-4c83-dc33-8f630c4459e7"
      },
      "execution_count": 1,
      "outputs": [
        {
          "output_type": "stream",
          "name": "stdout",
          "text": [
            "Collecting wget\n",
            "  Downloading wget-3.2.zip (10 kB)\n",
            "  Preparing metadata (setup.py) ... \u001b[?25l\u001b[?25hdone\n",
            "Building wheels for collected packages: wget\n",
            "  Building wheel for wget (setup.py) ... \u001b[?25l\u001b[?25hdone\n",
            "  Created wheel for wget: filename=wget-3.2-py3-none-any.whl size=9655 sha256=a9594705d98ffbf8e60e9e95b70439454950d821c113245191404f7472b73947\n",
            "  Stored in directory: /root/.cache/pip/wheels/8b/f1/7f/5c94f0a7a505ca1c81cd1d9208ae2064675d97582078e6c769\n",
            "Successfully built wget\n",
            "Installing collected packages: wget\n",
            "Successfully installed wget-3.2\n",
            "Collecting mapclassify\n",
            "  Downloading mapclassify-2.6.1-py3-none-any.whl (38 kB)\n",
            "Requirement already satisfied: networkx>=2.7 in /usr/local/lib/python3.10/dist-packages (from mapclassify) (3.2.1)\n",
            "Requirement already satisfied: numpy>=1.23 in /usr/local/lib/python3.10/dist-packages (from mapclassify) (1.23.5)\n",
            "Requirement already satisfied: pandas!=1.5.0,>=1.4 in /usr/local/lib/python3.10/dist-packages (from mapclassify) (1.5.3)\n",
            "Requirement already satisfied: scikit-learn>=1.0 in /usr/local/lib/python3.10/dist-packages (from mapclassify) (1.2.2)\n",
            "Requirement already satisfied: scipy>=1.8 in /usr/local/lib/python3.10/dist-packages (from mapclassify) (1.11.4)\n",
            "Requirement already satisfied: python-dateutil>=2.8.1 in /usr/local/lib/python3.10/dist-packages (from pandas!=1.5.0,>=1.4->mapclassify) (2.8.2)\n",
            "Requirement already satisfied: pytz>=2020.1 in /usr/local/lib/python3.10/dist-packages (from pandas!=1.5.0,>=1.4->mapclassify) (2023.3.post1)\n",
            "Requirement already satisfied: joblib>=1.1.1 in /usr/local/lib/python3.10/dist-packages (from scikit-learn>=1.0->mapclassify) (1.3.2)\n",
            "Requirement already satisfied: threadpoolctl>=2.0.0 in /usr/local/lib/python3.10/dist-packages (from scikit-learn>=1.0->mapclassify) (3.2.0)\n",
            "Requirement already satisfied: six>=1.5 in /usr/local/lib/python3.10/dist-packages (from python-dateutil>=2.8.1->pandas!=1.5.0,>=1.4->mapclassify) (1.16.0)\n",
            "Installing collected packages: mapclassify\n",
            "Successfully installed mapclassify-2.6.1\n",
            "Collecting rasterstats\n",
            "  Downloading rasterstats-0.19.0-py3-none-any.whl (16 kB)\n",
            "Collecting affine (from rasterstats)\n",
            "  Downloading affine-2.4.0-py3-none-any.whl (15 kB)\n",
            "Requirement already satisfied: click>7.1 in /usr/local/lib/python3.10/dist-packages (from rasterstats) (8.1.7)\n",
            "Requirement already satisfied: cligj>=0.4 in /usr/local/lib/python3.10/dist-packages (from rasterstats) (0.7.2)\n",
            "Requirement already satisfied: fiona in /usr/local/lib/python3.10/dist-packages (from rasterstats) (1.9.5)\n",
            "Requirement already satisfied: numpy>=1.9 in /usr/local/lib/python3.10/dist-packages (from rasterstats) (1.23.5)\n",
            "Collecting rasterio>=1.0 (from rasterstats)\n",
            "  Downloading rasterio-1.3.9-cp310-cp310-manylinux2014_x86_64.whl (20.6 MB)\n",
            "\u001b[2K     \u001b[90m━━━━━━━━━━━━━━━━━━━━━━━━━━━━━━━━━━━━━━━━\u001b[0m \u001b[32m20.6/20.6 MB\u001b[0m \u001b[31m35.2 MB/s\u001b[0m eta \u001b[36m0:00:00\u001b[0m\n",
            "\u001b[?25hCollecting simplejson (from rasterstats)\n",
            "  Downloading simplejson-3.19.2-cp310-cp310-manylinux_2_5_x86_64.manylinux1_x86_64.manylinux_2_17_x86_64.manylinux2014_x86_64.whl (137 kB)\n",
            "\u001b[2K     \u001b[90m━━━━━━━━━━━━━━━━━━━━━━━━━━━━━━━━━━━━━━━━\u001b[0m \u001b[32m137.9/137.9 kB\u001b[0m \u001b[31m14.5 MB/s\u001b[0m eta \u001b[36m0:00:00\u001b[0m\n",
            "\u001b[?25hRequirement already satisfied: shapely in /usr/local/lib/python3.10/dist-packages (from rasterstats) (2.0.2)\n",
            "Requirement already satisfied: attrs in /usr/local/lib/python3.10/dist-packages (from rasterio>=1.0->rasterstats) (23.2.0)\n",
            "Requirement already satisfied: certifi in /usr/local/lib/python3.10/dist-packages (from rasterio>=1.0->rasterstats) (2023.11.17)\n",
            "Collecting snuggs>=1.4.1 (from rasterio>=1.0->rasterstats)\n",
            "  Downloading snuggs-1.4.7-py3-none-any.whl (5.4 kB)\n",
            "Requirement already satisfied: click-plugins in /usr/local/lib/python3.10/dist-packages (from rasterio>=1.0->rasterstats) (1.1.1)\n",
            "Requirement already satisfied: setuptools in /usr/local/lib/python3.10/dist-packages (from rasterio>=1.0->rasterstats) (67.7.2)\n",
            "Requirement already satisfied: six in /usr/local/lib/python3.10/dist-packages (from fiona->rasterstats) (1.16.0)\n",
            "Requirement already satisfied: pyparsing>=2.1.6 in /usr/local/lib/python3.10/dist-packages (from snuggs>=1.4.1->rasterio>=1.0->rasterstats) (3.1.1)\n",
            "Installing collected packages: snuggs, simplejson, affine, rasterio, rasterstats\n",
            "Successfully installed affine-2.4.0 rasterio-1.3.9 rasterstats-0.19.0 simplejson-3.19.2 snuggs-1.4.7\n",
            "Collecting rioxarray\n",
            "  Downloading rioxarray-0.15.0-py3-none-any.whl (53 kB)\n",
            "\u001b[2K     \u001b[90m━━━━━━━━━━━━━━━━━━━━━━━━━━━━━━━━━━━━━━━━\u001b[0m \u001b[32m53.7/53.7 kB\u001b[0m \u001b[31m1.4 MB/s\u001b[0m eta \u001b[36m0:00:00\u001b[0m\n",
            "\u001b[?25hRequirement already satisfied: packaging in /usr/local/lib/python3.10/dist-packages (from rioxarray) (23.2)\n",
            "Requirement already satisfied: rasterio>=1.2 in /usr/local/lib/python3.10/dist-packages (from rioxarray) (1.3.9)\n",
            "Requirement already satisfied: xarray>=0.17 in /usr/local/lib/python3.10/dist-packages (from rioxarray) (2023.7.0)\n",
            "Requirement already satisfied: pyproj>=2.2 in /usr/local/lib/python3.10/dist-packages (from rioxarray) (3.6.1)\n",
            "Requirement already satisfied: numpy>=1.21 in /usr/local/lib/python3.10/dist-packages (from rioxarray) (1.23.5)\n",
            "Requirement already satisfied: certifi in /usr/local/lib/python3.10/dist-packages (from pyproj>=2.2->rioxarray) (2023.11.17)\n",
            "Requirement already satisfied: affine in /usr/local/lib/python3.10/dist-packages (from rasterio>=1.2->rioxarray) (2.4.0)\n",
            "Requirement already satisfied: attrs in /usr/local/lib/python3.10/dist-packages (from rasterio>=1.2->rioxarray) (23.2.0)\n",
            "Requirement already satisfied: click>=4.0 in /usr/local/lib/python3.10/dist-packages (from rasterio>=1.2->rioxarray) (8.1.7)\n",
            "Requirement already satisfied: cligj>=0.5 in /usr/local/lib/python3.10/dist-packages (from rasterio>=1.2->rioxarray) (0.7.2)\n",
            "Requirement already satisfied: snuggs>=1.4.1 in /usr/local/lib/python3.10/dist-packages (from rasterio>=1.2->rioxarray) (1.4.7)\n",
            "Requirement already satisfied: click-plugins in /usr/local/lib/python3.10/dist-packages (from rasterio>=1.2->rioxarray) (1.1.1)\n",
            "Requirement already satisfied: setuptools in /usr/local/lib/python3.10/dist-packages (from rasterio>=1.2->rioxarray) (67.7.2)\n",
            "Requirement already satisfied: pandas>=1.4 in /usr/local/lib/python3.10/dist-packages (from xarray>=0.17->rioxarray) (1.5.3)\n",
            "Requirement already satisfied: python-dateutil>=2.8.1 in /usr/local/lib/python3.10/dist-packages (from pandas>=1.4->xarray>=0.17->rioxarray) (2.8.2)\n",
            "Requirement already satisfied: pytz>=2020.1 in /usr/local/lib/python3.10/dist-packages (from pandas>=1.4->xarray>=0.17->rioxarray) (2023.3.post1)\n",
            "Requirement already satisfied: pyparsing>=2.1.6 in /usr/local/lib/python3.10/dist-packages (from snuggs>=1.4.1->rasterio>=1.2->rioxarray) (3.1.1)\n",
            "Requirement already satisfied: six>=1.5 in /usr/local/lib/python3.10/dist-packages (from python-dateutil>=2.8.1->pandas>=1.4->xarray>=0.17->rioxarray) (1.16.0)\n",
            "Installing collected packages: rioxarray\n",
            "Successfully installed rioxarray-0.15.0\n",
            "Requirement already satisfied: rasterio in /usr/local/lib/python3.10/dist-packages (1.3.9)\n",
            "Requirement already satisfied: affine in /usr/local/lib/python3.10/dist-packages (from rasterio) (2.4.0)\n",
            "Requirement already satisfied: attrs in /usr/local/lib/python3.10/dist-packages (from rasterio) (23.2.0)\n",
            "Requirement already satisfied: certifi in /usr/local/lib/python3.10/dist-packages (from rasterio) (2023.11.17)\n",
            "Requirement already satisfied: click>=4.0 in /usr/local/lib/python3.10/dist-packages (from rasterio) (8.1.7)\n",
            "Requirement already satisfied: cligj>=0.5 in /usr/local/lib/python3.10/dist-packages (from rasterio) (0.7.2)\n",
            "Requirement already satisfied: numpy in /usr/local/lib/python3.10/dist-packages (from rasterio) (1.23.5)\n",
            "Requirement already satisfied: snuggs>=1.4.1 in /usr/local/lib/python3.10/dist-packages (from rasterio) (1.4.7)\n",
            "Requirement already satisfied: click-plugins in /usr/local/lib/python3.10/dist-packages (from rasterio) (1.1.1)\n",
            "Requirement already satisfied: setuptools in /usr/local/lib/python3.10/dist-packages (from rasterio) (67.7.2)\n",
            "Requirement already satisfied: pyparsing>=2.1.6 in /usr/local/lib/python3.10/dist-packages (from snuggs>=1.4.1->rasterio) (3.1.1)\n"
          ]
        }
      ]
    },
    {
      "cell_type": "markdown",
      "metadata": {
        "id": "pyYFXlGcy6L3"
      },
      "source": [
        "# Retrieve the Data"
      ]
    },
    {
      "cell_type": "markdown",
      "metadata": {
        "id": "eWIUpds2zDWV"
      },
      "source": [
        "*   Amazon River (source: NASA-LBA-ECO CD-06 Amazon River Basin Land and Stream Drainage Direction Maps)\n",
        "\n"
      ]
    },
    {
      "cell_type": "code",
      "execution_count": 2,
      "metadata": {
        "colab": {
          "base_uri": "https://localhost:8080/",
          "height": 36
        },
        "id": "WKKUGr7z3JMj",
        "outputId": "f70f07d2-3320-442d-a25f-0f37702584a5"
      },
      "outputs": [
        {
          "output_type": "execute_result",
          "data": {
            "text/plain": [
              "'amazon_jogi.gpkg'"
            ],
            "application/vnd.google.colaboratory.intrinsic+json": {
              "type": "string"
            }
          },
          "metadata": {},
          "execution_count": 2
        }
      ],
      "source": [
        "url1= \"https://raw.githubusercontent.com/JCald12/geopython/145e9127d084f448d73b5b867c2c34a43cb089b2/amazon_jogi.gpkg\"\n",
        "output_file1 = \"amazon_jogi.gpkg\"\n",
        "\n",
        "wget.download(url1, output_file1)"
      ]
    },
    {
      "cell_type": "markdown",
      "metadata": {
        "id": "ZI_jpWowzNCo"
      },
      "source": [
        "*   Amazon Basins  (source: HydroBASINS)"
      ]
    },
    {
      "cell_type": "code",
      "execution_count": 3,
      "metadata": {
        "colab": {
          "base_uri": "https://localhost:8080/"
        },
        "id": "p82RVZd23XOk",
        "outputId": "3d627af0-3efe-41ad-cd67-accd8d64c08a"
      },
      "outputs": [
        {
          "output_type": "stream",
          "name": "stdout",
          "text": [
            "--2024-01-13 00:18:55--  https://data.hydrosheds.org/file/hydrobasins/standard/hybas_sa_lev01-12_v1c.zip\n",
            "Resolving data.hydrosheds.org (data.hydrosheds.org)... 104.21.14.61, 172.67.158.28, 2606:4700:3036::6815:e3d, ...\n",
            "Connecting to data.hydrosheds.org (data.hydrosheds.org)|104.21.14.61|:443... connected.\n",
            "HTTP request sent, awaiting response... 200 OK\n",
            "Length: 334160720 (319M) [application/zip]\n",
            "Saving to: ‘hybas_sa_lev01-12_v1c.zip’\n",
            "\n",
            "hybas_sa_lev01-12_v 100%[===================>] 318.68M  17.9MB/s    in 21s     \n",
            "\n",
            "2024-01-13 00:19:17 (15.3 MB/s) - ‘hybas_sa_lev01-12_v1c.zip’ saved [334160720/334160720]\n",
            "\n"
          ]
        }
      ],
      "source": [
        "!wget https://data.hydrosheds.org/file/hydrobasins/standard/hybas_sa_lev01-12_v1c.zip"
      ]
    },
    {
      "cell_type": "markdown",
      "metadata": {
        "id": "t6HlEN3izTkT"
      },
      "source": [
        "*   Countries (source: Natural Earth)"
      ]
    },
    {
      "cell_type": "code",
      "execution_count": 4,
      "metadata": {
        "id": "CELD1cwf85SO",
        "colab": {
          "base_uri": "https://localhost:8080/"
        },
        "outputId": "22e610c5-1531-4c95-b421-ae00a2a4f361"
      },
      "outputs": [
        {
          "output_type": "stream",
          "name": "stderr",
          "text": [
            "Downloading data from 'https://raw.githubusercontent.com/LandscapeGeoinformatics/geopy-2023/main/files/data/T2/extracted_natural_earth.gpkg' to file '/root/.cache/pooch/21e1b37855370ed87138e9d89bcb8df6-extracted_natural_earth.gpkg'.\n"
          ]
        }
      ],
      "source": [
        "natural_earth_extracted_file = pooch.retrieve(\n",
        "    url=\"https://raw.githubusercontent.com/LandscapeGeoinformatics/geopy-2023/main/files/data/T2/extracted_natural_earth.gpkg\",\n",
        "    known_hash=\"md5:d79a99f06a7bfb2a859d5f9a421d63b9\"\n",
        ")"
      ]
    },
    {
      "cell_type": "markdown",
      "metadata": {
        "id": "AGX7Kg3gzbN5"
      },
      "source": [
        "\n",
        "\n",
        "*   Precipitation Raster (source: WorldClim Precipitation)\n",
        "\n"
      ]
    },
    {
      "cell_type": "code",
      "execution_count": 5,
      "metadata": {
        "colab": {
          "base_uri": "https://localhost:8080/"
        },
        "id": "YFK4wSzxRT_n",
        "outputId": "b396cfb6-2def-4b99-944d-fd698f90a8ad"
      },
      "outputs": [
        {
          "output_type": "stream",
          "name": "stdout",
          "text": [
            "--2024-01-13 00:19:18--  https://geodata.ucdavis.edu/climate/worldclim/2_1/hist/cts4.06/10m/wc2.1_cruts4.06_10m_prec_2020-2021.zip\n",
            "Resolving geodata.ucdavis.edu (geodata.ucdavis.edu)... 128.120.146.30\n",
            "Connecting to geodata.ucdavis.edu (geodata.ucdavis.edu)|128.120.146.30|:443... connected.\n",
            "HTTP request sent, awaiting response... 200 OK\n",
            "Length: 43596808 (42M) [application/zip]\n",
            "Saving to: ‘wc2.1_cruts4.06_10m_prec_2020-2021.zip’\n",
            "\n",
            "wc2.1_cruts4.06_10m 100%[===================>]  41.58M  27.5MB/s    in 1.5s    \n",
            "\n",
            "2024-01-13 00:19:20 (27.5 MB/s) - ‘wc2.1_cruts4.06_10m_prec_2020-2021.zip’ saved [43596808/43596808]\n",
            "\n"
          ]
        }
      ],
      "source": [
        "!wget https://geodata.ucdavis.edu/climate/worldclim/2_1/hist/cts4.06/10m/wc2.1_cruts4.06_10m_prec_2020-2021.zip"
      ]
    },
    {
      "cell_type": "markdown",
      "metadata": {
        "id": "aLeuzth20PQP"
      },
      "source": [
        "# Prepare Vector Data for Analysis"
      ]
    },
    {
      "cell_type": "markdown",
      "metadata": {
        "id": "lL7q6Y2-1mQJ"
      },
      "source": [
        "## River and Streams"
      ]
    },
    {
      "cell_type": "markdown",
      "metadata": {
        "id": "wm8Bhnia0o9O"
      },
      "source": [
        "*   Amazon River"
      ]
    },
    {
      "cell_type": "code",
      "execution_count": 6,
      "metadata": {
        "colab": {
          "base_uri": "https://localhost:8080/",
          "height": 206
        },
        "id": "NqjxUHRW6d_6",
        "outputId": "17c12d8b-826f-4b4c-bd51-6a191b64ec6a"
      },
      "outputs": [
        {
          "output_type": "execute_result",
          "data": {
            "text/plain": [
              "     LENGTH  AMZSTRMORD  AMZSTRMO_1  \\\n",
              "0  0.026213           1           3   \n",
              "1  0.005000           2           3   \n",
              "2  0.195563           3           4   \n",
              "3  0.005000           4           3   \n",
              "4  0.024142           5           4   \n",
              "\n",
              "                                            geometry  \n",
              "0  MULTILINESTRING ((-59.86750 5.24750, -59.86750...  \n",
              "1  MULTILINESTRING ((-59.87750 5.22750, -59.88250...  \n",
              "2  MULTILINESTRING ((-59.88250 5.22750, -59.88750...  \n",
              "3  MULTILINESTRING ((-59.95250 5.09250, -59.95750...  \n",
              "4  MULTILINESTRING ((-59.95750 5.09250, -59.96250...  "
            ],
            "text/html": [
              "\n",
              "  <div id=\"df-93408153-1f2b-4992-953c-1c7d173e299b\" class=\"colab-df-container\">\n",
              "    <div>\n",
              "<style scoped>\n",
              "    .dataframe tbody tr th:only-of-type {\n",
              "        vertical-align: middle;\n",
              "    }\n",
              "\n",
              "    .dataframe tbody tr th {\n",
              "        vertical-align: top;\n",
              "    }\n",
              "\n",
              "    .dataframe thead th {\n",
              "        text-align: right;\n",
              "    }\n",
              "</style>\n",
              "<table border=\"1\" class=\"dataframe\">\n",
              "  <thead>\n",
              "    <tr style=\"text-align: right;\">\n",
              "      <th></th>\n",
              "      <th>LENGTH</th>\n",
              "      <th>AMZSTRMORD</th>\n",
              "      <th>AMZSTRMO_1</th>\n",
              "      <th>geometry</th>\n",
              "    </tr>\n",
              "  </thead>\n",
              "  <tbody>\n",
              "    <tr>\n",
              "      <th>0</th>\n",
              "      <td>0.026213</td>\n",
              "      <td>1</td>\n",
              "      <td>3</td>\n",
              "      <td>MULTILINESTRING ((-59.86750 5.24750, -59.86750...</td>\n",
              "    </tr>\n",
              "    <tr>\n",
              "      <th>1</th>\n",
              "      <td>0.005000</td>\n",
              "      <td>2</td>\n",
              "      <td>3</td>\n",
              "      <td>MULTILINESTRING ((-59.87750 5.22750, -59.88250...</td>\n",
              "    </tr>\n",
              "    <tr>\n",
              "      <th>2</th>\n",
              "      <td>0.195563</td>\n",
              "      <td>3</td>\n",
              "      <td>4</td>\n",
              "      <td>MULTILINESTRING ((-59.88250 5.22750, -59.88750...</td>\n",
              "    </tr>\n",
              "    <tr>\n",
              "      <th>3</th>\n",
              "      <td>0.005000</td>\n",
              "      <td>4</td>\n",
              "      <td>3</td>\n",
              "      <td>MULTILINESTRING ((-59.95250 5.09250, -59.95750...</td>\n",
              "    </tr>\n",
              "    <tr>\n",
              "      <th>4</th>\n",
              "      <td>0.024142</td>\n",
              "      <td>5</td>\n",
              "      <td>4</td>\n",
              "      <td>MULTILINESTRING ((-59.95750 5.09250, -59.96250...</td>\n",
              "    </tr>\n",
              "  </tbody>\n",
              "</table>\n",
              "</div>\n",
              "    <div class=\"colab-df-buttons\">\n",
              "\n",
              "  <div class=\"colab-df-container\">\n",
              "    <button class=\"colab-df-convert\" onclick=\"convertToInteractive('df-93408153-1f2b-4992-953c-1c7d173e299b')\"\n",
              "            title=\"Convert this dataframe to an interactive table.\"\n",
              "            style=\"display:none;\">\n",
              "\n",
              "  <svg xmlns=\"http://www.w3.org/2000/svg\" height=\"24px\" viewBox=\"0 -960 960 960\">\n",
              "    <path d=\"M120-120v-720h720v720H120Zm60-500h600v-160H180v160Zm220 220h160v-160H400v160Zm0 220h160v-160H400v160ZM180-400h160v-160H180v160Zm440 0h160v-160H620v160ZM180-180h160v-160H180v160Zm440 0h160v-160H620v160Z\"/>\n",
              "  </svg>\n",
              "    </button>\n",
              "\n",
              "  <style>\n",
              "    .colab-df-container {\n",
              "      display:flex;\n",
              "      gap: 12px;\n",
              "    }\n",
              "\n",
              "    .colab-df-convert {\n",
              "      background-color: #E8F0FE;\n",
              "      border: none;\n",
              "      border-radius: 50%;\n",
              "      cursor: pointer;\n",
              "      display: none;\n",
              "      fill: #1967D2;\n",
              "      height: 32px;\n",
              "      padding: 0 0 0 0;\n",
              "      width: 32px;\n",
              "    }\n",
              "\n",
              "    .colab-df-convert:hover {\n",
              "      background-color: #E2EBFA;\n",
              "      box-shadow: 0px 1px 2px rgba(60, 64, 67, 0.3), 0px 1px 3px 1px rgba(60, 64, 67, 0.15);\n",
              "      fill: #174EA6;\n",
              "    }\n",
              "\n",
              "    .colab-df-buttons div {\n",
              "      margin-bottom: 4px;\n",
              "    }\n",
              "\n",
              "    [theme=dark] .colab-df-convert {\n",
              "      background-color: #3B4455;\n",
              "      fill: #D2E3FC;\n",
              "    }\n",
              "\n",
              "    [theme=dark] .colab-df-convert:hover {\n",
              "      background-color: #434B5C;\n",
              "      box-shadow: 0px 1px 3px 1px rgba(0, 0, 0, 0.15);\n",
              "      filter: drop-shadow(0px 1px 2px rgba(0, 0, 0, 0.3));\n",
              "      fill: #FFFFFF;\n",
              "    }\n",
              "  </style>\n",
              "\n",
              "    <script>\n",
              "      const buttonEl =\n",
              "        document.querySelector('#df-93408153-1f2b-4992-953c-1c7d173e299b button.colab-df-convert');\n",
              "      buttonEl.style.display =\n",
              "        google.colab.kernel.accessAllowed ? 'block' : 'none';\n",
              "\n",
              "      async function convertToInteractive(key) {\n",
              "        const element = document.querySelector('#df-93408153-1f2b-4992-953c-1c7d173e299b');\n",
              "        const dataTable =\n",
              "          await google.colab.kernel.invokeFunction('convertToInteractive',\n",
              "                                                    [key], {});\n",
              "        if (!dataTable) return;\n",
              "\n",
              "        const docLinkHtml = 'Like what you see? Visit the ' +\n",
              "          '<a target=\"_blank\" href=https://colab.research.google.com/notebooks/data_table.ipynb>data table notebook</a>'\n",
              "          + ' to learn more about interactive tables.';\n",
              "        element.innerHTML = '';\n",
              "        dataTable['output_type'] = 'display_data';\n",
              "        await google.colab.output.renderOutput(dataTable, element);\n",
              "        const docLink = document.createElement('div');\n",
              "        docLink.innerHTML = docLinkHtml;\n",
              "        element.appendChild(docLink);\n",
              "      }\n",
              "    </script>\n",
              "  </div>\n",
              "\n",
              "\n",
              "<div id=\"df-bb337f62-a14a-43c7-834b-9b2fd96bad1a\">\n",
              "  <button class=\"colab-df-quickchart\" onclick=\"quickchart('df-bb337f62-a14a-43c7-834b-9b2fd96bad1a')\"\n",
              "            title=\"Suggest charts\"\n",
              "            style=\"display:none;\">\n",
              "\n",
              "<svg xmlns=\"http://www.w3.org/2000/svg\" height=\"24px\"viewBox=\"0 0 24 24\"\n",
              "     width=\"24px\">\n",
              "    <g>\n",
              "        <path d=\"M19 3H5c-1.1 0-2 .9-2 2v14c0 1.1.9 2 2 2h14c1.1 0 2-.9 2-2V5c0-1.1-.9-2-2-2zM9 17H7v-7h2v7zm4 0h-2V7h2v10zm4 0h-2v-4h2v4z\"/>\n",
              "    </g>\n",
              "</svg>\n",
              "  </button>\n",
              "\n",
              "<style>\n",
              "  .colab-df-quickchart {\n",
              "      --bg-color: #E8F0FE;\n",
              "      --fill-color: #1967D2;\n",
              "      --hover-bg-color: #E2EBFA;\n",
              "      --hover-fill-color: #174EA6;\n",
              "      --disabled-fill-color: #AAA;\n",
              "      --disabled-bg-color: #DDD;\n",
              "  }\n",
              "\n",
              "  [theme=dark] .colab-df-quickchart {\n",
              "      --bg-color: #3B4455;\n",
              "      --fill-color: #D2E3FC;\n",
              "      --hover-bg-color: #434B5C;\n",
              "      --hover-fill-color: #FFFFFF;\n",
              "      --disabled-bg-color: #3B4455;\n",
              "      --disabled-fill-color: #666;\n",
              "  }\n",
              "\n",
              "  .colab-df-quickchart {\n",
              "    background-color: var(--bg-color);\n",
              "    border: none;\n",
              "    border-radius: 50%;\n",
              "    cursor: pointer;\n",
              "    display: none;\n",
              "    fill: var(--fill-color);\n",
              "    height: 32px;\n",
              "    padding: 0;\n",
              "    width: 32px;\n",
              "  }\n",
              "\n",
              "  .colab-df-quickchart:hover {\n",
              "    background-color: var(--hover-bg-color);\n",
              "    box-shadow: 0 1px 2px rgba(60, 64, 67, 0.3), 0 1px 3px 1px rgba(60, 64, 67, 0.15);\n",
              "    fill: var(--button-hover-fill-color);\n",
              "  }\n",
              "\n",
              "  .colab-df-quickchart-complete:disabled,\n",
              "  .colab-df-quickchart-complete:disabled:hover {\n",
              "    background-color: var(--disabled-bg-color);\n",
              "    fill: var(--disabled-fill-color);\n",
              "    box-shadow: none;\n",
              "  }\n",
              "\n",
              "  .colab-df-spinner {\n",
              "    border: 2px solid var(--fill-color);\n",
              "    border-color: transparent;\n",
              "    border-bottom-color: var(--fill-color);\n",
              "    animation:\n",
              "      spin 1s steps(1) infinite;\n",
              "  }\n",
              "\n",
              "  @keyframes spin {\n",
              "    0% {\n",
              "      border-color: transparent;\n",
              "      border-bottom-color: var(--fill-color);\n",
              "      border-left-color: var(--fill-color);\n",
              "    }\n",
              "    20% {\n",
              "      border-color: transparent;\n",
              "      border-left-color: var(--fill-color);\n",
              "      border-top-color: var(--fill-color);\n",
              "    }\n",
              "    30% {\n",
              "      border-color: transparent;\n",
              "      border-left-color: var(--fill-color);\n",
              "      border-top-color: var(--fill-color);\n",
              "      border-right-color: var(--fill-color);\n",
              "    }\n",
              "    40% {\n",
              "      border-color: transparent;\n",
              "      border-right-color: var(--fill-color);\n",
              "      border-top-color: var(--fill-color);\n",
              "    }\n",
              "    60% {\n",
              "      border-color: transparent;\n",
              "      border-right-color: var(--fill-color);\n",
              "    }\n",
              "    80% {\n",
              "      border-color: transparent;\n",
              "      border-right-color: var(--fill-color);\n",
              "      border-bottom-color: var(--fill-color);\n",
              "    }\n",
              "    90% {\n",
              "      border-color: transparent;\n",
              "      border-bottom-color: var(--fill-color);\n",
              "    }\n",
              "  }\n",
              "</style>\n",
              "\n",
              "  <script>\n",
              "    async function quickchart(key) {\n",
              "      const quickchartButtonEl =\n",
              "        document.querySelector('#' + key + ' button');\n",
              "      quickchartButtonEl.disabled = true;  // To prevent multiple clicks.\n",
              "      quickchartButtonEl.classList.add('colab-df-spinner');\n",
              "      try {\n",
              "        const charts = await google.colab.kernel.invokeFunction(\n",
              "            'suggestCharts', [key], {});\n",
              "      } catch (error) {\n",
              "        console.error('Error during call to suggestCharts:', error);\n",
              "      }\n",
              "      quickchartButtonEl.classList.remove('colab-df-spinner');\n",
              "      quickchartButtonEl.classList.add('colab-df-quickchart-complete');\n",
              "    }\n",
              "    (() => {\n",
              "      let quickchartButtonEl =\n",
              "        document.querySelector('#df-bb337f62-a14a-43c7-834b-9b2fd96bad1a button');\n",
              "      quickchartButtonEl.style.display =\n",
              "        google.colab.kernel.accessAllowed ? 'block' : 'none';\n",
              "    })();\n",
              "  </script>\n",
              "</div>\n",
              "\n",
              "    </div>\n",
              "  </div>\n"
            ]
          },
          "metadata": {},
          "execution_count": 6
        }
      ],
      "source": [
        "amazon_jogi = gpd.read_file(\"amazon_jogi.gpkg\")\n",
        "amazon_jogi.head()"
      ]
    },
    {
      "cell_type": "markdown",
      "metadata": {
        "id": "fw_YKTHX05kl"
      },
      "source": [
        "*   Select only streams from 7 to 10 of the Strahler Order"
      ]
    },
    {
      "cell_type": "code",
      "execution_count": 7,
      "metadata": {
        "colab": {
          "base_uri": "https://localhost:8080/",
          "height": 424
        },
        "id": "PwHp0k0F7UYA",
        "outputId": "3028de7e-06e8-4254-d278-68d65068e028"
      },
      "outputs": [
        {
          "output_type": "execute_result",
          "data": {
            "text/plain": [
              "         LENGTH  AMZSTRMORD  AMZSTRMO_1  \\\n",
              "321    0.129853         322           7   \n",
              "361    0.039142         362           7   \n",
              "364    0.014142         365           7   \n",
              "365    0.270711         366           7   \n",
              "373    0.328640         374           7   \n",
              "...         ...         ...         ...   \n",
              "33652  0.087426       33653           7   \n",
              "33654  0.117426       33655           7   \n",
              "33663  0.152426       33664           7   \n",
              "33664  0.234350       33665           7   \n",
              "33665  0.091213       33666           7   \n",
              "\n",
              "                                                geometry  \n",
              "321    MULTILINESTRING ((-61.66750 3.53250, -61.66250...  \n",
              "361    MULTILINESTRING ((-60.94750 3.45750, -60.94250...  \n",
              "364    MULTILINESTRING ((-60.95750 3.44750, -60.95250...  \n",
              "365    MULTILINESTRING ((-60.91250 3.45750, -60.90750...  \n",
              "373    MULTILINESTRING ((-61.26750 3.40250, -61.26250...  \n",
              "...                                                  ...  \n",
              "33652  MULTILINESTRING ((-63.55750 -19.08750, -63.557...  \n",
              "33654  MULTILINESTRING ((-63.66250 -19.08750, -63.657...  \n",
              "33663  MULTILINESTRING ((-63.92250 -19.17250, -63.922...  \n",
              "33664  MULTILINESTRING ((-64.10250 -18.98250, -64.097...  \n",
              "33665  MULTILINESTRING ((-64.00750 -19.17750, -64.002...  \n",
              "\n",
              "[1996 rows x 4 columns]"
            ],
            "text/html": [
              "\n",
              "  <div id=\"df-4289a1cb-3d76-4469-8c52-72e321ea1c55\" class=\"colab-df-container\">\n",
              "    <div>\n",
              "<style scoped>\n",
              "    .dataframe tbody tr th:only-of-type {\n",
              "        vertical-align: middle;\n",
              "    }\n",
              "\n",
              "    .dataframe tbody tr th {\n",
              "        vertical-align: top;\n",
              "    }\n",
              "\n",
              "    .dataframe thead th {\n",
              "        text-align: right;\n",
              "    }\n",
              "</style>\n",
              "<table border=\"1\" class=\"dataframe\">\n",
              "  <thead>\n",
              "    <tr style=\"text-align: right;\">\n",
              "      <th></th>\n",
              "      <th>LENGTH</th>\n",
              "      <th>AMZSTRMORD</th>\n",
              "      <th>AMZSTRMO_1</th>\n",
              "      <th>geometry</th>\n",
              "    </tr>\n",
              "  </thead>\n",
              "  <tbody>\n",
              "    <tr>\n",
              "      <th>321</th>\n",
              "      <td>0.129853</td>\n",
              "      <td>322</td>\n",
              "      <td>7</td>\n",
              "      <td>MULTILINESTRING ((-61.66750 3.53250, -61.66250...</td>\n",
              "    </tr>\n",
              "    <tr>\n",
              "      <th>361</th>\n",
              "      <td>0.039142</td>\n",
              "      <td>362</td>\n",
              "      <td>7</td>\n",
              "      <td>MULTILINESTRING ((-60.94750 3.45750, -60.94250...</td>\n",
              "    </tr>\n",
              "    <tr>\n",
              "      <th>364</th>\n",
              "      <td>0.014142</td>\n",
              "      <td>365</td>\n",
              "      <td>7</td>\n",
              "      <td>MULTILINESTRING ((-60.95750 3.44750, -60.95250...</td>\n",
              "    </tr>\n",
              "    <tr>\n",
              "      <th>365</th>\n",
              "      <td>0.270711</td>\n",
              "      <td>366</td>\n",
              "      <td>7</td>\n",
              "      <td>MULTILINESTRING ((-60.91250 3.45750, -60.90750...</td>\n",
              "    </tr>\n",
              "    <tr>\n",
              "      <th>373</th>\n",
              "      <td>0.328640</td>\n",
              "      <td>374</td>\n",
              "      <td>7</td>\n",
              "      <td>MULTILINESTRING ((-61.26750 3.40250, -61.26250...</td>\n",
              "    </tr>\n",
              "    <tr>\n",
              "      <th>...</th>\n",
              "      <td>...</td>\n",
              "      <td>...</td>\n",
              "      <td>...</td>\n",
              "      <td>...</td>\n",
              "    </tr>\n",
              "    <tr>\n",
              "      <th>33652</th>\n",
              "      <td>0.087426</td>\n",
              "      <td>33653</td>\n",
              "      <td>7</td>\n",
              "      <td>MULTILINESTRING ((-63.55750 -19.08750, -63.557...</td>\n",
              "    </tr>\n",
              "    <tr>\n",
              "      <th>33654</th>\n",
              "      <td>0.117426</td>\n",
              "      <td>33655</td>\n",
              "      <td>7</td>\n",
              "      <td>MULTILINESTRING ((-63.66250 -19.08750, -63.657...</td>\n",
              "    </tr>\n",
              "    <tr>\n",
              "      <th>33663</th>\n",
              "      <td>0.152426</td>\n",
              "      <td>33664</td>\n",
              "      <td>7</td>\n",
              "      <td>MULTILINESTRING ((-63.92250 -19.17250, -63.922...</td>\n",
              "    </tr>\n",
              "    <tr>\n",
              "      <th>33664</th>\n",
              "      <td>0.234350</td>\n",
              "      <td>33665</td>\n",
              "      <td>7</td>\n",
              "      <td>MULTILINESTRING ((-64.10250 -18.98250, -64.097...</td>\n",
              "    </tr>\n",
              "    <tr>\n",
              "      <th>33665</th>\n",
              "      <td>0.091213</td>\n",
              "      <td>33666</td>\n",
              "      <td>7</td>\n",
              "      <td>MULTILINESTRING ((-64.00750 -19.17750, -64.002...</td>\n",
              "    </tr>\n",
              "  </tbody>\n",
              "</table>\n",
              "<p>1996 rows × 4 columns</p>\n",
              "</div>\n",
              "    <div class=\"colab-df-buttons\">\n",
              "\n",
              "  <div class=\"colab-df-container\">\n",
              "    <button class=\"colab-df-convert\" onclick=\"convertToInteractive('df-4289a1cb-3d76-4469-8c52-72e321ea1c55')\"\n",
              "            title=\"Convert this dataframe to an interactive table.\"\n",
              "            style=\"display:none;\">\n",
              "\n",
              "  <svg xmlns=\"http://www.w3.org/2000/svg\" height=\"24px\" viewBox=\"0 -960 960 960\">\n",
              "    <path d=\"M120-120v-720h720v720H120Zm60-500h600v-160H180v160Zm220 220h160v-160H400v160Zm0 220h160v-160H400v160ZM180-400h160v-160H180v160Zm440 0h160v-160H620v160ZM180-180h160v-160H180v160Zm440 0h160v-160H620v160Z\"/>\n",
              "  </svg>\n",
              "    </button>\n",
              "\n",
              "  <style>\n",
              "    .colab-df-container {\n",
              "      display:flex;\n",
              "      gap: 12px;\n",
              "    }\n",
              "\n",
              "    .colab-df-convert {\n",
              "      background-color: #E8F0FE;\n",
              "      border: none;\n",
              "      border-radius: 50%;\n",
              "      cursor: pointer;\n",
              "      display: none;\n",
              "      fill: #1967D2;\n",
              "      height: 32px;\n",
              "      padding: 0 0 0 0;\n",
              "      width: 32px;\n",
              "    }\n",
              "\n",
              "    .colab-df-convert:hover {\n",
              "      background-color: #E2EBFA;\n",
              "      box-shadow: 0px 1px 2px rgba(60, 64, 67, 0.3), 0px 1px 3px 1px rgba(60, 64, 67, 0.15);\n",
              "      fill: #174EA6;\n",
              "    }\n",
              "\n",
              "    .colab-df-buttons div {\n",
              "      margin-bottom: 4px;\n",
              "    }\n",
              "\n",
              "    [theme=dark] .colab-df-convert {\n",
              "      background-color: #3B4455;\n",
              "      fill: #D2E3FC;\n",
              "    }\n",
              "\n",
              "    [theme=dark] .colab-df-convert:hover {\n",
              "      background-color: #434B5C;\n",
              "      box-shadow: 0px 1px 3px 1px rgba(0, 0, 0, 0.15);\n",
              "      filter: drop-shadow(0px 1px 2px rgba(0, 0, 0, 0.3));\n",
              "      fill: #FFFFFF;\n",
              "    }\n",
              "  </style>\n",
              "\n",
              "    <script>\n",
              "      const buttonEl =\n",
              "        document.querySelector('#df-4289a1cb-3d76-4469-8c52-72e321ea1c55 button.colab-df-convert');\n",
              "      buttonEl.style.display =\n",
              "        google.colab.kernel.accessAllowed ? 'block' : 'none';\n",
              "\n",
              "      async function convertToInteractive(key) {\n",
              "        const element = document.querySelector('#df-4289a1cb-3d76-4469-8c52-72e321ea1c55');\n",
              "        const dataTable =\n",
              "          await google.colab.kernel.invokeFunction('convertToInteractive',\n",
              "                                                    [key], {});\n",
              "        if (!dataTable) return;\n",
              "\n",
              "        const docLinkHtml = 'Like what you see? Visit the ' +\n",
              "          '<a target=\"_blank\" href=https://colab.research.google.com/notebooks/data_table.ipynb>data table notebook</a>'\n",
              "          + ' to learn more about interactive tables.';\n",
              "        element.innerHTML = '';\n",
              "        dataTable['output_type'] = 'display_data';\n",
              "        await google.colab.output.renderOutput(dataTable, element);\n",
              "        const docLink = document.createElement('div');\n",
              "        docLink.innerHTML = docLinkHtml;\n",
              "        element.appendChild(docLink);\n",
              "      }\n",
              "    </script>\n",
              "  </div>\n",
              "\n",
              "\n",
              "<div id=\"df-594e838d-9837-4f87-9d9e-57a53b7dcb01\">\n",
              "  <button class=\"colab-df-quickchart\" onclick=\"quickchart('df-594e838d-9837-4f87-9d9e-57a53b7dcb01')\"\n",
              "            title=\"Suggest charts\"\n",
              "            style=\"display:none;\">\n",
              "\n",
              "<svg xmlns=\"http://www.w3.org/2000/svg\" height=\"24px\"viewBox=\"0 0 24 24\"\n",
              "     width=\"24px\">\n",
              "    <g>\n",
              "        <path d=\"M19 3H5c-1.1 0-2 .9-2 2v14c0 1.1.9 2 2 2h14c1.1 0 2-.9 2-2V5c0-1.1-.9-2-2-2zM9 17H7v-7h2v7zm4 0h-2V7h2v10zm4 0h-2v-4h2v4z\"/>\n",
              "    </g>\n",
              "</svg>\n",
              "  </button>\n",
              "\n",
              "<style>\n",
              "  .colab-df-quickchart {\n",
              "      --bg-color: #E8F0FE;\n",
              "      --fill-color: #1967D2;\n",
              "      --hover-bg-color: #E2EBFA;\n",
              "      --hover-fill-color: #174EA6;\n",
              "      --disabled-fill-color: #AAA;\n",
              "      --disabled-bg-color: #DDD;\n",
              "  }\n",
              "\n",
              "  [theme=dark] .colab-df-quickchart {\n",
              "      --bg-color: #3B4455;\n",
              "      --fill-color: #D2E3FC;\n",
              "      --hover-bg-color: #434B5C;\n",
              "      --hover-fill-color: #FFFFFF;\n",
              "      --disabled-bg-color: #3B4455;\n",
              "      --disabled-fill-color: #666;\n",
              "  }\n",
              "\n",
              "  .colab-df-quickchart {\n",
              "    background-color: var(--bg-color);\n",
              "    border: none;\n",
              "    border-radius: 50%;\n",
              "    cursor: pointer;\n",
              "    display: none;\n",
              "    fill: var(--fill-color);\n",
              "    height: 32px;\n",
              "    padding: 0;\n",
              "    width: 32px;\n",
              "  }\n",
              "\n",
              "  .colab-df-quickchart:hover {\n",
              "    background-color: var(--hover-bg-color);\n",
              "    box-shadow: 0 1px 2px rgba(60, 64, 67, 0.3), 0 1px 3px 1px rgba(60, 64, 67, 0.15);\n",
              "    fill: var(--button-hover-fill-color);\n",
              "  }\n",
              "\n",
              "  .colab-df-quickchart-complete:disabled,\n",
              "  .colab-df-quickchart-complete:disabled:hover {\n",
              "    background-color: var(--disabled-bg-color);\n",
              "    fill: var(--disabled-fill-color);\n",
              "    box-shadow: none;\n",
              "  }\n",
              "\n",
              "  .colab-df-spinner {\n",
              "    border: 2px solid var(--fill-color);\n",
              "    border-color: transparent;\n",
              "    border-bottom-color: var(--fill-color);\n",
              "    animation:\n",
              "      spin 1s steps(1) infinite;\n",
              "  }\n",
              "\n",
              "  @keyframes spin {\n",
              "    0% {\n",
              "      border-color: transparent;\n",
              "      border-bottom-color: var(--fill-color);\n",
              "      border-left-color: var(--fill-color);\n",
              "    }\n",
              "    20% {\n",
              "      border-color: transparent;\n",
              "      border-left-color: var(--fill-color);\n",
              "      border-top-color: var(--fill-color);\n",
              "    }\n",
              "    30% {\n",
              "      border-color: transparent;\n",
              "      border-left-color: var(--fill-color);\n",
              "      border-top-color: var(--fill-color);\n",
              "      border-right-color: var(--fill-color);\n",
              "    }\n",
              "    40% {\n",
              "      border-color: transparent;\n",
              "      border-right-color: var(--fill-color);\n",
              "      border-top-color: var(--fill-color);\n",
              "    }\n",
              "    60% {\n",
              "      border-color: transparent;\n",
              "      border-right-color: var(--fill-color);\n",
              "    }\n",
              "    80% {\n",
              "      border-color: transparent;\n",
              "      border-right-color: var(--fill-color);\n",
              "      border-bottom-color: var(--fill-color);\n",
              "    }\n",
              "    90% {\n",
              "      border-color: transparent;\n",
              "      border-bottom-color: var(--fill-color);\n",
              "    }\n",
              "  }\n",
              "</style>\n",
              "\n",
              "  <script>\n",
              "    async function quickchart(key) {\n",
              "      const quickchartButtonEl =\n",
              "        document.querySelector('#' + key + ' button');\n",
              "      quickchartButtonEl.disabled = true;  // To prevent multiple clicks.\n",
              "      quickchartButtonEl.classList.add('colab-df-spinner');\n",
              "      try {\n",
              "        const charts = await google.colab.kernel.invokeFunction(\n",
              "            'suggestCharts', [key], {});\n",
              "      } catch (error) {\n",
              "        console.error('Error during call to suggestCharts:', error);\n",
              "      }\n",
              "      quickchartButtonEl.classList.remove('colab-df-spinner');\n",
              "      quickchartButtonEl.classList.add('colab-df-quickchart-complete');\n",
              "    }\n",
              "    (() => {\n",
              "      let quickchartButtonEl =\n",
              "        document.querySelector('#df-594e838d-9837-4f87-9d9e-57a53b7dcb01 button');\n",
              "      quickchartButtonEl.style.display =\n",
              "        google.colab.kernel.accessAllowed ? 'block' : 'none';\n",
              "    })();\n",
              "  </script>\n",
              "</div>\n",
              "\n",
              "  <div id=\"id_06bde6aa-99e5-465b-ab02-192f50499560\">\n",
              "    <style>\n",
              "      .colab-df-generate {\n",
              "        background-color: #E8F0FE;\n",
              "        border: none;\n",
              "        border-radius: 50%;\n",
              "        cursor: pointer;\n",
              "        display: none;\n",
              "        fill: #1967D2;\n",
              "        height: 32px;\n",
              "        padding: 0 0 0 0;\n",
              "        width: 32px;\n",
              "      }\n",
              "\n",
              "      .colab-df-generate:hover {\n",
              "        background-color: #E2EBFA;\n",
              "        box-shadow: 0px 1px 2px rgba(60, 64, 67, 0.3), 0px 1px 3px 1px rgba(60, 64, 67, 0.15);\n",
              "        fill: #174EA6;\n",
              "      }\n",
              "\n",
              "      [theme=dark] .colab-df-generate {\n",
              "        background-color: #3B4455;\n",
              "        fill: #D2E3FC;\n",
              "      }\n",
              "\n",
              "      [theme=dark] .colab-df-generate:hover {\n",
              "        background-color: #434B5C;\n",
              "        box-shadow: 0px 1px 3px 1px rgba(0, 0, 0, 0.15);\n",
              "        filter: drop-shadow(0px 1px 2px rgba(0, 0, 0, 0.3));\n",
              "        fill: #FFFFFF;\n",
              "      }\n",
              "    </style>\n",
              "    <button class=\"colab-df-generate\" onclick=\"generateWithVariable('amazonjogi')\"\n",
              "            title=\"Generate code using this dataframe.\"\n",
              "            style=\"display:none;\">\n",
              "\n",
              "  <svg xmlns=\"http://www.w3.org/2000/svg\" height=\"24px\"viewBox=\"0 0 24 24\"\n",
              "       width=\"24px\">\n",
              "    <path d=\"M7,19H8.4L18.45,9,17,7.55,7,17.6ZM5,21V16.75L18.45,3.32a2,2,0,0,1,2.83,0l1.4,1.43a1.91,1.91,0,0,1,.58,1.4,1.91,1.91,0,0,1-.58,1.4L9.25,21ZM18.45,9,17,7.55Zm-12,3A5.31,5.31,0,0,0,4.9,8.1,5.31,5.31,0,0,0,1,6.5,5.31,5.31,0,0,0,4.9,4.9,5.31,5.31,0,0,0,6.5,1,5.31,5.31,0,0,0,8.1,4.9,5.31,5.31,0,0,0,12,6.5,5.46,5.46,0,0,0,6.5,12Z\"/>\n",
              "  </svg>\n",
              "    </button>\n",
              "    <script>\n",
              "      (() => {\n",
              "      const buttonEl =\n",
              "        document.querySelector('#id_06bde6aa-99e5-465b-ab02-192f50499560 button.colab-df-generate');\n",
              "      buttonEl.style.display =\n",
              "        google.colab.kernel.accessAllowed ? 'block' : 'none';\n",
              "\n",
              "      buttonEl.onclick = () => {\n",
              "        google.colab.notebook.generateWithVariable('amazonjogi');\n",
              "      }\n",
              "      })();\n",
              "    </script>\n",
              "  </div>\n",
              "\n",
              "    </div>\n",
              "  </div>\n"
            ]
          },
          "metadata": {},
          "execution_count": 7
        }
      ],
      "source": [
        "amazonjogi = amazon_jogi.loc[amazon_jogi['AMZSTRMO_1'].between(7, 10)]\n",
        "amazonjogi"
      ]
    },
    {
      "cell_type": "markdown",
      "metadata": {
        "id": "PBTIVpPu1xag"
      },
      "source": [
        "## Basins"
      ]
    },
    {
      "cell_type": "markdown",
      "metadata": {
        "id": "XGxpOn8to8Ce"
      },
      "source": [
        "*   Extract files from ZIP"
      ]
    },
    {
      "cell_type": "code",
      "source": [
        "hydrobasinszip = \"hybas_sa_lev01-12_v1c.zip\"\n",
        "\n",
        "extract_basin = \"hydrobasins\"\n",
        "\n",
        "os.makedirs(extract_basin, exist_ok=True)\n",
        "\n",
        "with zipfile.ZipFile(hydrobasinszip, 'r') as zip_ref:\n",
        "    zip_ref.extractall(extract_basin)\n",
        "\n",
        "extracted_files = os.listdir(extract_basin)\n",
        "os.remove(hydrobasinszip)"
      ],
      "metadata": {
        "id": "ZD5dEX7rz0hF"
      },
      "execution_count": 8,
      "outputs": []
    },
    {
      "cell_type": "markdown",
      "metadata": {
        "id": "N8q7o2R3oZBl"
      },
      "source": [
        "*   Select only level 5 basins, deleting everything else."
      ]
    },
    {
      "cell_type": "code",
      "source": [
        "selectedhydro = glob.glob(os.path.join(extract_basin, '*.shp'))\n",
        "\n",
        "\n",
        "deleteremaining_hydro = [file for file in selectedhydro if 'lev05_v1c' not in file]\n",
        "\n",
        "for deletebasins in deleteremaining_hydro:\n",
        "    try:\n",
        "\n",
        "        os.remove(deletebasins)\n",
        "        print(f\"Deleted: {deletebasins}\")\n",
        "\n",
        "        file_prefix = os.path.splitext(deletebasins)[0]\n",
        "        delete_ext = ['.dbf', '.prj', '.sbn', '.sbx', '.shx','.shp.xml']\n",
        "\n",
        "        for extension in delete_ext:\n",
        "            associated_file = file_prefix + extension\n",
        "\n",
        "            try:\n",
        "                os.remove(associated_file)\n",
        "                print(f\"Deleted: {associated_file}\")\n",
        "            except OSError as e:\n",
        "                print(f\"Error deleting {associated_file}: {e}\")\n",
        "\n",
        "    except OSError as e:\n",
        "        print(f\"Error deleting {deletebasins}: {e}\")"
      ],
      "metadata": {
        "colab": {
          "base_uri": "https://localhost:8080/"
        },
        "id": "3q4hlhDzCBvE",
        "outputId": "bdd21c4e-3f29-4e84-e69e-205766b8cf54"
      },
      "execution_count": 9,
      "outputs": [
        {
          "output_type": "stream",
          "name": "stdout",
          "text": [
            "Deleted: hydrobasins/hybas_sa_lev11_v1c.shp\n",
            "Deleted: hydrobasins/hybas_sa_lev11_v1c.dbf\n",
            "Deleted: hydrobasins/hybas_sa_lev11_v1c.prj\n",
            "Deleted: hydrobasins/hybas_sa_lev11_v1c.sbn\n",
            "Deleted: hydrobasins/hybas_sa_lev11_v1c.sbx\n",
            "Deleted: hydrobasins/hybas_sa_lev11_v1c.shx\n",
            "Deleted: hydrobasins/hybas_sa_lev11_v1c.shp.xml\n",
            "Deleted: hydrobasins/hybas_sa_lev12_v1c.shp\n",
            "Deleted: hydrobasins/hybas_sa_lev12_v1c.dbf\n",
            "Deleted: hydrobasins/hybas_sa_lev12_v1c.prj\n",
            "Deleted: hydrobasins/hybas_sa_lev12_v1c.sbn\n",
            "Deleted: hydrobasins/hybas_sa_lev12_v1c.sbx\n",
            "Deleted: hydrobasins/hybas_sa_lev12_v1c.shx\n",
            "Deleted: hydrobasins/hybas_sa_lev12_v1c.shp.xml\n",
            "Deleted: hydrobasins/hybas_sa_lev08_v1c.shp\n",
            "Deleted: hydrobasins/hybas_sa_lev08_v1c.dbf\n",
            "Deleted: hydrobasins/hybas_sa_lev08_v1c.prj\n",
            "Deleted: hydrobasins/hybas_sa_lev08_v1c.sbn\n",
            "Deleted: hydrobasins/hybas_sa_lev08_v1c.sbx\n",
            "Deleted: hydrobasins/hybas_sa_lev08_v1c.shx\n",
            "Deleted: hydrobasins/hybas_sa_lev08_v1c.shp.xml\n",
            "Deleted: hydrobasins/hybas_sa_lev10_v1c.shp\n",
            "Deleted: hydrobasins/hybas_sa_lev10_v1c.dbf\n",
            "Deleted: hydrobasins/hybas_sa_lev10_v1c.prj\n",
            "Deleted: hydrobasins/hybas_sa_lev10_v1c.sbn\n",
            "Deleted: hydrobasins/hybas_sa_lev10_v1c.sbx\n",
            "Deleted: hydrobasins/hybas_sa_lev10_v1c.shx\n",
            "Deleted: hydrobasins/hybas_sa_lev10_v1c.shp.xml\n",
            "Deleted: hydrobasins/hybas_sa_lev04_v1c.shp\n",
            "Deleted: hydrobasins/hybas_sa_lev04_v1c.dbf\n",
            "Deleted: hydrobasins/hybas_sa_lev04_v1c.prj\n",
            "Deleted: hydrobasins/hybas_sa_lev04_v1c.sbn\n",
            "Deleted: hydrobasins/hybas_sa_lev04_v1c.sbx\n",
            "Deleted: hydrobasins/hybas_sa_lev04_v1c.shx\n",
            "Deleted: hydrobasins/hybas_sa_lev04_v1c.shp.xml\n",
            "Deleted: hydrobasins/hybas_sa_lev06_v1c.shp\n",
            "Deleted: hydrobasins/hybas_sa_lev06_v1c.dbf\n",
            "Deleted: hydrobasins/hybas_sa_lev06_v1c.prj\n",
            "Deleted: hydrobasins/hybas_sa_lev06_v1c.sbn\n",
            "Deleted: hydrobasins/hybas_sa_lev06_v1c.sbx\n",
            "Deleted: hydrobasins/hybas_sa_lev06_v1c.shx\n",
            "Deleted: hydrobasins/hybas_sa_lev06_v1c.shp.xml\n",
            "Deleted: hydrobasins/hybas_sa_lev09_v1c.shp\n",
            "Deleted: hydrobasins/hybas_sa_lev09_v1c.dbf\n",
            "Deleted: hydrobasins/hybas_sa_lev09_v1c.prj\n",
            "Deleted: hydrobasins/hybas_sa_lev09_v1c.sbn\n",
            "Deleted: hydrobasins/hybas_sa_lev09_v1c.sbx\n",
            "Deleted: hydrobasins/hybas_sa_lev09_v1c.shx\n",
            "Deleted: hydrobasins/hybas_sa_lev09_v1c.shp.xml\n",
            "Deleted: hydrobasins/hybas_sa_lev07_v1c.shp\n",
            "Deleted: hydrobasins/hybas_sa_lev07_v1c.dbf\n",
            "Deleted: hydrobasins/hybas_sa_lev07_v1c.prj\n",
            "Deleted: hydrobasins/hybas_sa_lev07_v1c.sbn\n",
            "Deleted: hydrobasins/hybas_sa_lev07_v1c.sbx\n",
            "Deleted: hydrobasins/hybas_sa_lev07_v1c.shx\n",
            "Deleted: hydrobasins/hybas_sa_lev07_v1c.shp.xml\n",
            "Deleted: hydrobasins/hybas_sa_lev03_v1c.shp\n",
            "Deleted: hydrobasins/hybas_sa_lev03_v1c.dbf\n",
            "Deleted: hydrobasins/hybas_sa_lev03_v1c.prj\n",
            "Deleted: hydrobasins/hybas_sa_lev03_v1c.sbn\n",
            "Deleted: hydrobasins/hybas_sa_lev03_v1c.sbx\n",
            "Deleted: hydrobasins/hybas_sa_lev03_v1c.shx\n",
            "Deleted: hydrobasins/hybas_sa_lev03_v1c.shp.xml\n",
            "Deleted: hydrobasins/hybas_sa_lev01_v1c.shp\n",
            "Deleted: hydrobasins/hybas_sa_lev01_v1c.dbf\n",
            "Deleted: hydrobasins/hybas_sa_lev01_v1c.prj\n",
            "Deleted: hydrobasins/hybas_sa_lev01_v1c.sbn\n",
            "Deleted: hydrobasins/hybas_sa_lev01_v1c.sbx\n",
            "Deleted: hydrobasins/hybas_sa_lev01_v1c.shx\n",
            "Deleted: hydrobasins/hybas_sa_lev01_v1c.shp.xml\n",
            "Deleted: hydrobasins/hybas_sa_lev02_v1c.shp\n",
            "Deleted: hydrobasins/hybas_sa_lev02_v1c.dbf\n",
            "Deleted: hydrobasins/hybas_sa_lev02_v1c.prj\n",
            "Deleted: hydrobasins/hybas_sa_lev02_v1c.sbn\n",
            "Deleted: hydrobasins/hybas_sa_lev02_v1c.sbx\n",
            "Deleted: hydrobasins/hybas_sa_lev02_v1c.shx\n",
            "Deleted: hydrobasins/hybas_sa_lev02_v1c.shp.xml\n"
          ]
        }
      ]
    },
    {
      "cell_type": "code",
      "execution_count": 10,
      "metadata": {
        "id": "JXcitQ9U4Kq2"
      },
      "outputs": [],
      "source": [
        "selectedhydro_amazon = [file for file in selectedhydro if 'hybas_sa_lev05_v1c' in file]"
      ]
    },
    {
      "cell_type": "code",
      "source": [
        "amazon_vesikond = gpd.read_file(selectedhydro_amazon[0])"
      ],
      "metadata": {
        "id": "q2w-gTuc5nwO"
      },
      "execution_count": 11,
      "outputs": []
    },
    {
      "cell_type": "code",
      "execution_count": 12,
      "metadata": {
        "colab": {
          "base_uri": "https://localhost:8080/",
          "height": 206
        },
        "id": "RwaWQzLvfxJZ",
        "outputId": "98b29fe3-4e0d-4534-831c-01e17341bead"
      },
      "outputs": [
        {
          "output_type": "execute_result",
          "data": {
            "text/plain": [
              "     HYBAS_ID   NEXT_DOWN   NEXT_SINK    MAIN_BAS  DIST_SINK  DIST_MAIN  \\\n",
              "0  6050000010           0  6050000010  6050000010        0.0        0.0   \n",
              "1  6050000740           0  6050000740  6050000740        0.0        0.0   \n",
              "2  6050068100  6050000740  6050000740  6050000740      276.9      276.9   \n",
              "3  6050068110  6050000740  6050000740  6050000740      277.1      277.1   \n",
              "4  6050070260  6050068110  6050000740  6050000740      315.1      315.1   \n",
              "\n",
              "   SUB_AREA   UP_AREA  PFAF_ID  ENDO  COAST  ORDER  SORT  \\\n",
              "0   72363.7   72363.7    61100     0      1      0     1   \n",
              "1   17944.3  260739.0    61201     0      0      1     2   \n",
              "2   17105.5   17105.5    61202     0      0      2     3   \n",
              "3     610.1  225687.7    61203     0      0      1     4   \n",
              "4   61901.9   61901.9    61204     0      0      2     5   \n",
              "\n",
              "                                            geometry  \n",
              "0  MULTIPOLYGON (((-75.73472 10.17083, -75.75746 ...  \n",
              "1  POLYGON ((-74.07500 9.59167, -74.07254 9.59131...  \n",
              "2  POLYGON ((-74.95833 8.13750, -74.95777 8.12279...  \n",
              "3  POLYGON ((-74.64167 9.04583, -74.63953 9.04519...  \n",
              "4  MULTIPOLYGON (((-74.75417 7.02083, -74.75295 7...  "
            ],
            "text/html": [
              "\n",
              "  <div id=\"df-88969be8-e9be-4602-8ddc-736ec9d790d8\" class=\"colab-df-container\">\n",
              "    <div>\n",
              "<style scoped>\n",
              "    .dataframe tbody tr th:only-of-type {\n",
              "        vertical-align: middle;\n",
              "    }\n",
              "\n",
              "    .dataframe tbody tr th {\n",
              "        vertical-align: top;\n",
              "    }\n",
              "\n",
              "    .dataframe thead th {\n",
              "        text-align: right;\n",
              "    }\n",
              "</style>\n",
              "<table border=\"1\" class=\"dataframe\">\n",
              "  <thead>\n",
              "    <tr style=\"text-align: right;\">\n",
              "      <th></th>\n",
              "      <th>HYBAS_ID</th>\n",
              "      <th>NEXT_DOWN</th>\n",
              "      <th>NEXT_SINK</th>\n",
              "      <th>MAIN_BAS</th>\n",
              "      <th>DIST_SINK</th>\n",
              "      <th>DIST_MAIN</th>\n",
              "      <th>SUB_AREA</th>\n",
              "      <th>UP_AREA</th>\n",
              "      <th>PFAF_ID</th>\n",
              "      <th>ENDO</th>\n",
              "      <th>COAST</th>\n",
              "      <th>ORDER</th>\n",
              "      <th>SORT</th>\n",
              "      <th>geometry</th>\n",
              "    </tr>\n",
              "  </thead>\n",
              "  <tbody>\n",
              "    <tr>\n",
              "      <th>0</th>\n",
              "      <td>6050000010</td>\n",
              "      <td>0</td>\n",
              "      <td>6050000010</td>\n",
              "      <td>6050000010</td>\n",
              "      <td>0.0</td>\n",
              "      <td>0.0</td>\n",
              "      <td>72363.7</td>\n",
              "      <td>72363.7</td>\n",
              "      <td>61100</td>\n",
              "      <td>0</td>\n",
              "      <td>1</td>\n",
              "      <td>0</td>\n",
              "      <td>1</td>\n",
              "      <td>MULTIPOLYGON (((-75.73472 10.17083, -75.75746 ...</td>\n",
              "    </tr>\n",
              "    <tr>\n",
              "      <th>1</th>\n",
              "      <td>6050000740</td>\n",
              "      <td>0</td>\n",
              "      <td>6050000740</td>\n",
              "      <td>6050000740</td>\n",
              "      <td>0.0</td>\n",
              "      <td>0.0</td>\n",
              "      <td>17944.3</td>\n",
              "      <td>260739.0</td>\n",
              "      <td>61201</td>\n",
              "      <td>0</td>\n",
              "      <td>0</td>\n",
              "      <td>1</td>\n",
              "      <td>2</td>\n",
              "      <td>POLYGON ((-74.07500 9.59167, -74.07254 9.59131...</td>\n",
              "    </tr>\n",
              "    <tr>\n",
              "      <th>2</th>\n",
              "      <td>6050068100</td>\n",
              "      <td>6050000740</td>\n",
              "      <td>6050000740</td>\n",
              "      <td>6050000740</td>\n",
              "      <td>276.9</td>\n",
              "      <td>276.9</td>\n",
              "      <td>17105.5</td>\n",
              "      <td>17105.5</td>\n",
              "      <td>61202</td>\n",
              "      <td>0</td>\n",
              "      <td>0</td>\n",
              "      <td>2</td>\n",
              "      <td>3</td>\n",
              "      <td>POLYGON ((-74.95833 8.13750, -74.95777 8.12279...</td>\n",
              "    </tr>\n",
              "    <tr>\n",
              "      <th>3</th>\n",
              "      <td>6050068110</td>\n",
              "      <td>6050000740</td>\n",
              "      <td>6050000740</td>\n",
              "      <td>6050000740</td>\n",
              "      <td>277.1</td>\n",
              "      <td>277.1</td>\n",
              "      <td>610.1</td>\n",
              "      <td>225687.7</td>\n",
              "      <td>61203</td>\n",
              "      <td>0</td>\n",
              "      <td>0</td>\n",
              "      <td>1</td>\n",
              "      <td>4</td>\n",
              "      <td>POLYGON ((-74.64167 9.04583, -74.63953 9.04519...</td>\n",
              "    </tr>\n",
              "    <tr>\n",
              "      <th>4</th>\n",
              "      <td>6050070260</td>\n",
              "      <td>6050068110</td>\n",
              "      <td>6050000740</td>\n",
              "      <td>6050000740</td>\n",
              "      <td>315.1</td>\n",
              "      <td>315.1</td>\n",
              "      <td>61901.9</td>\n",
              "      <td>61901.9</td>\n",
              "      <td>61204</td>\n",
              "      <td>0</td>\n",
              "      <td>0</td>\n",
              "      <td>2</td>\n",
              "      <td>5</td>\n",
              "      <td>MULTIPOLYGON (((-74.75417 7.02083, -74.75295 7...</td>\n",
              "    </tr>\n",
              "  </tbody>\n",
              "</table>\n",
              "</div>\n",
              "    <div class=\"colab-df-buttons\">\n",
              "\n",
              "  <div class=\"colab-df-container\">\n",
              "    <button class=\"colab-df-convert\" onclick=\"convertToInteractive('df-88969be8-e9be-4602-8ddc-736ec9d790d8')\"\n",
              "            title=\"Convert this dataframe to an interactive table.\"\n",
              "            style=\"display:none;\">\n",
              "\n",
              "  <svg xmlns=\"http://www.w3.org/2000/svg\" height=\"24px\" viewBox=\"0 -960 960 960\">\n",
              "    <path d=\"M120-120v-720h720v720H120Zm60-500h600v-160H180v160Zm220 220h160v-160H400v160Zm0 220h160v-160H400v160ZM180-400h160v-160H180v160Zm440 0h160v-160H620v160ZM180-180h160v-160H180v160Zm440 0h160v-160H620v160Z\"/>\n",
              "  </svg>\n",
              "    </button>\n",
              "\n",
              "  <style>\n",
              "    .colab-df-container {\n",
              "      display:flex;\n",
              "      gap: 12px;\n",
              "    }\n",
              "\n",
              "    .colab-df-convert {\n",
              "      background-color: #E8F0FE;\n",
              "      border: none;\n",
              "      border-radius: 50%;\n",
              "      cursor: pointer;\n",
              "      display: none;\n",
              "      fill: #1967D2;\n",
              "      height: 32px;\n",
              "      padding: 0 0 0 0;\n",
              "      width: 32px;\n",
              "    }\n",
              "\n",
              "    .colab-df-convert:hover {\n",
              "      background-color: #E2EBFA;\n",
              "      box-shadow: 0px 1px 2px rgba(60, 64, 67, 0.3), 0px 1px 3px 1px rgba(60, 64, 67, 0.15);\n",
              "      fill: #174EA6;\n",
              "    }\n",
              "\n",
              "    .colab-df-buttons div {\n",
              "      margin-bottom: 4px;\n",
              "    }\n",
              "\n",
              "    [theme=dark] .colab-df-convert {\n",
              "      background-color: #3B4455;\n",
              "      fill: #D2E3FC;\n",
              "    }\n",
              "\n",
              "    [theme=dark] .colab-df-convert:hover {\n",
              "      background-color: #434B5C;\n",
              "      box-shadow: 0px 1px 3px 1px rgba(0, 0, 0, 0.15);\n",
              "      filter: drop-shadow(0px 1px 2px rgba(0, 0, 0, 0.3));\n",
              "      fill: #FFFFFF;\n",
              "    }\n",
              "  </style>\n",
              "\n",
              "    <script>\n",
              "      const buttonEl =\n",
              "        document.querySelector('#df-88969be8-e9be-4602-8ddc-736ec9d790d8 button.colab-df-convert');\n",
              "      buttonEl.style.display =\n",
              "        google.colab.kernel.accessAllowed ? 'block' : 'none';\n",
              "\n",
              "      async function convertToInteractive(key) {\n",
              "        const element = document.querySelector('#df-88969be8-e9be-4602-8ddc-736ec9d790d8');\n",
              "        const dataTable =\n",
              "          await google.colab.kernel.invokeFunction('convertToInteractive',\n",
              "                                                    [key], {});\n",
              "        if (!dataTable) return;\n",
              "\n",
              "        const docLinkHtml = 'Like what you see? Visit the ' +\n",
              "          '<a target=\"_blank\" href=https://colab.research.google.com/notebooks/data_table.ipynb>data table notebook</a>'\n",
              "          + ' to learn more about interactive tables.';\n",
              "        element.innerHTML = '';\n",
              "        dataTable['output_type'] = 'display_data';\n",
              "        await google.colab.output.renderOutput(dataTable, element);\n",
              "        const docLink = document.createElement('div');\n",
              "        docLink.innerHTML = docLinkHtml;\n",
              "        element.appendChild(docLink);\n",
              "      }\n",
              "    </script>\n",
              "  </div>\n",
              "\n",
              "\n",
              "<div id=\"df-56938e84-09fb-4a43-9313-54e902e7b1a6\">\n",
              "  <button class=\"colab-df-quickchart\" onclick=\"quickchart('df-56938e84-09fb-4a43-9313-54e902e7b1a6')\"\n",
              "            title=\"Suggest charts\"\n",
              "            style=\"display:none;\">\n",
              "\n",
              "<svg xmlns=\"http://www.w3.org/2000/svg\" height=\"24px\"viewBox=\"0 0 24 24\"\n",
              "     width=\"24px\">\n",
              "    <g>\n",
              "        <path d=\"M19 3H5c-1.1 0-2 .9-2 2v14c0 1.1.9 2 2 2h14c1.1 0 2-.9 2-2V5c0-1.1-.9-2-2-2zM9 17H7v-7h2v7zm4 0h-2V7h2v10zm4 0h-2v-4h2v4z\"/>\n",
              "    </g>\n",
              "</svg>\n",
              "  </button>\n",
              "\n",
              "<style>\n",
              "  .colab-df-quickchart {\n",
              "      --bg-color: #E8F0FE;\n",
              "      --fill-color: #1967D2;\n",
              "      --hover-bg-color: #E2EBFA;\n",
              "      --hover-fill-color: #174EA6;\n",
              "      --disabled-fill-color: #AAA;\n",
              "      --disabled-bg-color: #DDD;\n",
              "  }\n",
              "\n",
              "  [theme=dark] .colab-df-quickchart {\n",
              "      --bg-color: #3B4455;\n",
              "      --fill-color: #D2E3FC;\n",
              "      --hover-bg-color: #434B5C;\n",
              "      --hover-fill-color: #FFFFFF;\n",
              "      --disabled-bg-color: #3B4455;\n",
              "      --disabled-fill-color: #666;\n",
              "  }\n",
              "\n",
              "  .colab-df-quickchart {\n",
              "    background-color: var(--bg-color);\n",
              "    border: none;\n",
              "    border-radius: 50%;\n",
              "    cursor: pointer;\n",
              "    display: none;\n",
              "    fill: var(--fill-color);\n",
              "    height: 32px;\n",
              "    padding: 0;\n",
              "    width: 32px;\n",
              "  }\n",
              "\n",
              "  .colab-df-quickchart:hover {\n",
              "    background-color: var(--hover-bg-color);\n",
              "    box-shadow: 0 1px 2px rgba(60, 64, 67, 0.3), 0 1px 3px 1px rgba(60, 64, 67, 0.15);\n",
              "    fill: var(--button-hover-fill-color);\n",
              "  }\n",
              "\n",
              "  .colab-df-quickchart-complete:disabled,\n",
              "  .colab-df-quickchart-complete:disabled:hover {\n",
              "    background-color: var(--disabled-bg-color);\n",
              "    fill: var(--disabled-fill-color);\n",
              "    box-shadow: none;\n",
              "  }\n",
              "\n",
              "  .colab-df-spinner {\n",
              "    border: 2px solid var(--fill-color);\n",
              "    border-color: transparent;\n",
              "    border-bottom-color: var(--fill-color);\n",
              "    animation:\n",
              "      spin 1s steps(1) infinite;\n",
              "  }\n",
              "\n",
              "  @keyframes spin {\n",
              "    0% {\n",
              "      border-color: transparent;\n",
              "      border-bottom-color: var(--fill-color);\n",
              "      border-left-color: var(--fill-color);\n",
              "    }\n",
              "    20% {\n",
              "      border-color: transparent;\n",
              "      border-left-color: var(--fill-color);\n",
              "      border-top-color: var(--fill-color);\n",
              "    }\n",
              "    30% {\n",
              "      border-color: transparent;\n",
              "      border-left-color: var(--fill-color);\n",
              "      border-top-color: var(--fill-color);\n",
              "      border-right-color: var(--fill-color);\n",
              "    }\n",
              "    40% {\n",
              "      border-color: transparent;\n",
              "      border-right-color: var(--fill-color);\n",
              "      border-top-color: var(--fill-color);\n",
              "    }\n",
              "    60% {\n",
              "      border-color: transparent;\n",
              "      border-right-color: var(--fill-color);\n",
              "    }\n",
              "    80% {\n",
              "      border-color: transparent;\n",
              "      border-right-color: var(--fill-color);\n",
              "      border-bottom-color: var(--fill-color);\n",
              "    }\n",
              "    90% {\n",
              "      border-color: transparent;\n",
              "      border-bottom-color: var(--fill-color);\n",
              "    }\n",
              "  }\n",
              "</style>\n",
              "\n",
              "  <script>\n",
              "    async function quickchart(key) {\n",
              "      const quickchartButtonEl =\n",
              "        document.querySelector('#' + key + ' button');\n",
              "      quickchartButtonEl.disabled = true;  // To prevent multiple clicks.\n",
              "      quickchartButtonEl.classList.add('colab-df-spinner');\n",
              "      try {\n",
              "        const charts = await google.colab.kernel.invokeFunction(\n",
              "            'suggestCharts', [key], {});\n",
              "      } catch (error) {\n",
              "        console.error('Error during call to suggestCharts:', error);\n",
              "      }\n",
              "      quickchartButtonEl.classList.remove('colab-df-spinner');\n",
              "      quickchartButtonEl.classList.add('colab-df-quickchart-complete');\n",
              "    }\n",
              "    (() => {\n",
              "      let quickchartButtonEl =\n",
              "        document.querySelector('#df-56938e84-09fb-4a43-9313-54e902e7b1a6 button');\n",
              "      quickchartButtonEl.style.display =\n",
              "        google.colab.kernel.accessAllowed ? 'block' : 'none';\n",
              "    })();\n",
              "  </script>\n",
              "</div>\n",
              "\n",
              "    </div>\n",
              "  </div>\n"
            ]
          },
          "metadata": {},
          "execution_count": 12
        }
      ],
      "source": [
        "amazon_vesikond.head()"
      ]
    },
    {
      "cell_type": "markdown",
      "metadata": {
        "id": "p2yzbRDQ6Fhs"
      },
      "source": [
        "*   Clean the data for Basins"
      ]
    },
    {
      "cell_type": "code",
      "execution_count": 13,
      "metadata": {
        "id": "Rmh3woft5tYK"
      },
      "outputs": [],
      "source": [
        "vesikondcolumns = ['MAIN_BAS','ORDER','SORT', 'geometry']\n",
        "amazon_vesikond = amazon_vesikond[vesikondcolumns]"
      ]
    },
    {
      "cell_type": "markdown",
      "metadata": {
        "id": "PyPCsZTn112u"
      },
      "source": [
        "## Countries"
      ]
    },
    {
      "cell_type": "code",
      "execution_count": 14,
      "metadata": {
        "id": "ZA3IQ8s58_uv"
      },
      "outputs": [],
      "source": [
        "riigid = gpd.read_file(natural_earth_extracted_file, layer=\"ne_50m_admin_0_countries\", driver=\"GPKG\")"
      ]
    },
    {
      "cell_type": "markdown",
      "metadata": {
        "id": "8BGzZeA8wnqq"
      },
      "source": [
        "*   Clean the data for Countries"
      ]
    },
    {
      "cell_type": "code",
      "execution_count": 15,
      "metadata": {
        "id": "nZx9dpbUwh54"
      },
      "outputs": [],
      "source": [
        "countriescolumns = ['CONTINENT', 'NAME','POP_EST','GDP_MD', 'geometry']\n",
        "riigid = riigid[countriescolumns]"
      ]
    },
    {
      "cell_type": "markdown",
      "metadata": {
        "id": "0DemYnoQ2Hqh"
      },
      "source": [
        "### Set EPSG to 31970 (SIRGAS 2000 / UTM zone 16N)"
      ]
    },
    {
      "cell_type": "code",
      "execution_count": 16,
      "metadata": {
        "id": "tJPVF7aV-IFj"
      },
      "outputs": [],
      "source": [
        "riigid = riigid.to_crs(epsg=31970)\n",
        "amazonjogi = amazonjogi.to_crs(epsg=31970)\n",
        "amazon_vesikond = amazon_vesikond.to_crs(epsg=31970)\n",
        "amazon_vesikond = amazon_vesikond.dropna()\n",
        "amazonjogi.reset_index(drop=True, inplace=True)\n",
        "amazonjogi, riigid = amazonjogi.align(riigid, axis=1)"
      ]
    },
    {
      "cell_type": "markdown",
      "metadata": {
        "id": "y_76HO4q3Pj3"
      },
      "source": [
        "# Prepare Raster Data for Analysis"
      ]
    },
    {
      "cell_type": "markdown",
      "metadata": {
        "id": "aJQz8dgPPwAH"
      },
      "source": [
        "*   Extract files from ZIP"
      ]
    },
    {
      "cell_type": "code",
      "execution_count": 17,
      "metadata": {
        "id": "V8WB_dubSzYo"
      },
      "outputs": [],
      "source": [
        "worldclimprep = \"wc2.1_cruts4.06_10m_prec_2020-2021.zip\"\n",
        "\n",
        "extract_dir = \"worldclim_data\"\n",
        "\n",
        "os.makedirs(extract_dir, exist_ok=True)\n",
        "\n",
        "with zipfile.ZipFile(worldclimprep, 'r') as zip_ref:\n",
        "    zip_ref.extractall(extract_dir)\n",
        "\n",
        "extracted_files = os.listdir(extract_dir)\n",
        "os.remove(worldclimprep)"
      ]
    },
    {
      "cell_type": "markdown",
      "metadata": {
        "id": "aZoNuxBGP9wi"
      },
      "source": [
        "*   Filter 2020 images and delete the rest."
      ]
    },
    {
      "cell_type": "code",
      "source": [
        "worlddata_dir = \"worldclim_data\"\n",
        "\n",
        "tif_files = glob.glob(os.path.join(worlddata_dir, '*.tif'))\n",
        "\n",
        "tif_delete = [file for file in tif_files if '2020' not in file]\n",
        "\n",
        "for worldclim_delete in tif_delete:\n",
        "    try:\n",
        "\n",
        "        os.remove(worldclim_delete)\n",
        "        print(f\"Deleted: {worldclim_delete}\")\n",
        "\n",
        "    except OSError as e:\n",
        "        print(f\"Error deleting {worldclim_delete}: {e}\")"
      ],
      "metadata": {
        "colab": {
          "base_uri": "https://localhost:8080/"
        },
        "id": "ANLW1kkRHsPn",
        "outputId": "41dd3539-f45a-4fdb-d594-dbf9a313c1dd"
      },
      "execution_count": 18,
      "outputs": [
        {
          "output_type": "stream",
          "name": "stdout",
          "text": [
            "Deleted: worldclim_data/wc2.1_10m_prec_2021-10.tif\n",
            "Deleted: worldclim_data/wc2.1_10m_prec_2021-03.tif\n",
            "Deleted: worldclim_data/wc2.1_10m_prec_2021-11.tif\n",
            "Deleted: worldclim_data/wc2.1_10m_prec_2021-01.tif\n",
            "Deleted: worldclim_data/wc2.1_10m_prec_2021-12.tif\n",
            "Deleted: worldclim_data/wc2.1_10m_prec_2021-02.tif\n",
            "Deleted: worldclim_data/wc2.1_10m_prec_2021-04.tif\n",
            "Deleted: worldclim_data/wc2.1_10m_prec_2021-09.tif\n",
            "Deleted: worldclim_data/wc2.1_10m_prec_2021-07.tif\n",
            "Deleted: worldclim_data/wc2.1_10m_prec_2021-08.tif\n",
            "Deleted: worldclim_data/wc2.1_10m_prec_2021-06.tif\n",
            "Deleted: worldclim_data/wc2.1_10m_prec_2021-05.tif\n"
          ]
        }
      ]
    },
    {
      "cell_type": "code",
      "execution_count": 19,
      "metadata": {
        "id": "86j8XIuoWkpF"
      },
      "outputs": [],
      "source": [
        "tif_files_2020 = [file for file in tif_files if '2020' in file]"
      ]
    },
    {
      "cell_type": "markdown",
      "metadata": {
        "id": "3MyFo2islOZk"
      },
      "source": [
        "*   Define months for rainy and dry seasons"
      ]
    },
    {
      "cell_type": "code",
      "execution_count": 20,
      "metadata": {
        "id": "U68DHxzWWqcY"
      },
      "outputs": [],
      "source": [
        "rainy_months= ['12', '01', '02', '03', '04', '05']\n",
        "dry_months = ['06', '07', '08', '09','10', '11']"
      ]
    },
    {
      "cell_type": "markdown",
      "metadata": {
        "id": "LsZLQAzFlXFw"
      },
      "source": [
        "*   Filter files for rainy and dry seasons"
      ]
    },
    {
      "cell_type": "code",
      "execution_count": 21,
      "metadata": {
        "id": "XNnLTS2hX6ca"
      },
      "outputs": [],
      "source": [
        "rainymonth_pattern = r\"-({})\\.tif$\".format('|'.join(rainy_months))\n",
        "drymonth_pattern = r\"-({})\\.tif$\".format('|'.join(dry_months))\n",
        "\n",
        "rainy_season_files = [file for file in tif_files_2020 if re.search(rainymonth_pattern, file)]\n",
        "dry_season_files = [file for file in tif_files_2020 if re.search(drymonth_pattern, file)]"
      ]
    },
    {
      "cell_type": "markdown",
      "metadata": {
        "id": "SdU8jbZ9l9j8"
      },
      "source": [
        "*   Merge files for rainy and dry seasons"
      ]
    },
    {
      "cell_type": "code",
      "execution_count": 22,
      "metadata": {
        "id": "7fCx2tP0YCWT"
      },
      "outputs": [],
      "source": [
        "def merge_season(files, output_path):\n",
        "    sources = [rasterio.open(file) for file in files]\n",
        "    merged, out_transform = merge(sources, resampling=Resampling.bilinear)\n",
        "    with rasterio.open(output_path, \"w\", **sources[0].meta) as dest:\n",
        "        dest.write(merged)\n",
        "\n",
        "merged_rainy_path = \"merged_rainy_season.tif\"\n",
        "merge_season(rainy_season_files, merged_rainy_path)\n",
        "\n",
        "merged_dry_path = \"merged_dry_season.tif\"\n",
        "merge_season(dry_season_files, merged_dry_path)"
      ]
    },
    {
      "cell_type": "markdown",
      "metadata": {
        "id": "hYCgxHrZ4I2_"
      },
      "source": [
        "*   Reproject to EPSG:31970 and save to GeoTIFF"
      ]
    },
    {
      "cell_type": "code",
      "execution_count": 23,
      "metadata": {
        "id": "CaJDNYL0eY86"
      },
      "outputs": [],
      "source": [
        "rainy = rxr.open_rasterio(\"merged_rainy_season.tif\")\n",
        "dry    = rxr.open_rasterio(\"merged_dry_season.tif\")"
      ]
    },
    {
      "cell_type": "code",
      "execution_count": 24,
      "metadata": {
        "id": "Ie8CtBktfGJo"
      },
      "outputs": [],
      "source": [
        "rainy_reprojected = rainy.rio.reproject(\"EPSG:31970\")\n",
        "dry_reprojected    = dry.rio.reproject(\"EPSG:31970\")"
      ]
    },
    {
      "cell_type": "code",
      "execution_count": 25,
      "metadata": {
        "id": "5bpSgN7CfINe"
      },
      "outputs": [],
      "source": [
        "rainy_reprojected.rio.to_raster(\"reprojected_rainy_season.tif\")\n",
        "dry_reprojected.rio.to_raster(\"reprojected_dry_season.tif\")"
      ]
    },
    {
      "cell_type": "markdown",
      "metadata": {
        "id": "exRwj1Av2k5S"
      },
      "source": [
        "# Task 1. Select the countries which the Amazon River passes through, and their respective basins."
      ]
    },
    {
      "cell_type": "markdown",
      "metadata": {
        "id": "5d2okBP86Icq"
      },
      "source": [
        "*   Generate a 50 km Buffer for the Amazon River"
      ]
    },
    {
      "cell_type": "code",
      "execution_count": 26,
      "metadata": {
        "id": "1Wr9o9ZoAuB6"
      },
      "outputs": [],
      "source": [
        "amazonjogibuff = amazonjogi.buffer(10000)"
      ]
    },
    {
      "cell_type": "markdown",
      "metadata": {
        "id": "PP-RlcPK6ztd"
      },
      "source": [
        "*    Extract the countries using *Intersect*\n",
        "\n"
      ]
    },
    {
      "cell_type": "code",
      "execution_count": 27,
      "metadata": {
        "id": "8K0a9L0P-dtk"
      },
      "outputs": [],
      "source": [
        "amazonjogiriigid = riigid[riigid.intersects(amazonjogibuff.unary_union)]"
      ]
    },
    {
      "cell_type": "markdown",
      "metadata": {
        "id": "Nhdi__Vyvvmb"
      },
      "source": [
        "*    Extract the basins using *Intersect*"
      ]
    },
    {
      "cell_type": "code",
      "execution_count": 28,
      "metadata": {
        "id": "BTo-tj8ngzKc"
      },
      "outputs": [],
      "source": [
        "amazonvesikondiriigid = amazon_vesikond[amazon_vesikond.intersects(amazonjogibuff.unary_union)]"
      ]
    },
    {
      "cell_type": "markdown",
      "metadata": {
        "id": "Yk0EVpX16FGr"
      },
      "source": [
        "*    Overlay the basins with countries"
      ]
    },
    {
      "cell_type": "code",
      "execution_count": 29,
      "metadata": {
        "colab": {
          "base_uri": "https://localhost:8080/"
        },
        "id": "881tFOuYvn4z",
        "outputId": "0d4f3210-7220-4deb-b215-679618c66fe3"
      },
      "outputs": [
        {
          "output_type": "stream",
          "name": "stderr",
          "text": [
            "<ipython-input-29-1ab66509932f>:1: UserWarning: `keep_geom_type=True` in overlay resulted in 1 dropped geometries of different geometry types than df1 has. Set `keep_geom_type=False` to retain all geometries\n",
            "  vesikond_riigid = gpd.overlay(amazonvesikondiriigid, amazonjogiriigid[['geometry', 'NAME']], how='identity',)\n"
          ]
        }
      ],
      "source": [
        "vesikond_riigid = gpd.overlay(amazonvesikondiriigid, amazonjogiriigid[['geometry', 'NAME']], how='identity',)\n",
        "vesikond_riigid\n",
        "\n",
        "vesikond_riigid = vesikond_riigid.dropna(subset=['NAME'])"
      ]
    },
    {
      "cell_type": "markdown",
      "metadata": {
        "id": "nWRbhjZavLwN"
      },
      "source": [
        "**TASK 1. RESULTS**"
      ]
    },
    {
      "cell_type": "code",
      "execution_count": 30,
      "metadata": {
        "colab": {
          "base_uri": "https://localhost:8080/"
        },
        "id": "9BpdkqVMpy_T",
        "outputId": "98d3c348-39f3-496a-9211-72378ab0de29"
      },
      "outputs": [
        {
          "output_type": "stream",
          "name": "stdout",
          "text": [
            "The Amazon River (streams in Strahler Order 7-10) passes through 6 countries, which are: Venezuela, Peru, Ecuador, Colombia, Brazil, Bolivia; consisting of 71 basins.\n"
          ]
        }
      ],
      "source": [
        "print(f\"The Amazon River (streams in Strahler Order 7-10) passes through {len(amazonjogiriigid)} countries, which are: {', '.join(amazonjogiriigid['NAME'].to_list())}; consisting of {len(amazonvesikondiriigid)} basins.\")"
      ]
    },
    {
      "cell_type": "markdown",
      "metadata": {
        "id": "LsLm-r7D4V_7"
      },
      "source": [
        "# Task 2. Calculate Zonal Raster Statictics"
      ]
    },
    {
      "cell_type": "code",
      "execution_count": 31,
      "metadata": {
        "id": "pkoxSP5Ghiup"
      },
      "outputs": [],
      "source": [
        "reprojected_rainy = \"reprojected_rainy_season.tif\"\n",
        "reprojected_dry = \"reprojected_dry_season.tif\""
      ]
    },
    {
      "cell_type": "markdown",
      "metadata": {
        "id": "KvwQfkLPWn4r"
      },
      "source": [
        "*    Clip Seasonal Precipitation Raster to Amazon Basins Boundary"
      ]
    },
    {
      "cell_type": "code",
      "execution_count": 32,
      "metadata": {
        "id": "hfwik8yMTjJD"
      },
      "outputs": [],
      "source": [
        "reprojected_rainy = \"reprojected_rainy_season.tif\"\n",
        "reprojected_dry =  \"reprojected_dry_season.tif\"\n",
        "\n",
        "def clipraster(input_raster, output_path, geometry):\n",
        "    with rasterio.open(input_raster, \"r\") as src:\n",
        "        out_image, out_transform = mask.mask(src, geometry, crop=True)\n",
        "        out_meta = src.meta.copy()\n",
        "\n",
        "    out_meta.update({\"driver\": \"GTiff\",\n",
        "                     \"height\": out_image.shape[1],\n",
        "                     \"width\": out_image.shape[2],\n",
        "                     \"transform\": out_transform})\n",
        "\n",
        "    with rasterio.open(output_path, \"w\", **out_meta) as dest:\n",
        "        dest.write(out_image)"
      ]
    },
    {
      "cell_type": "markdown",
      "metadata": {
        "id": "YA9RPa0YW2-F"
      },
      "source": [
        "*    Save raster files"
      ]
    },
    {
      "cell_type": "code",
      "execution_count": 33,
      "metadata": {
        "id": "T59pNl7nieP1"
      },
      "outputs": [],
      "source": [
        "clipraster(reprojected_dry, \"amazon_dry_season.tif\", amazonvesikondiriigid.geometry)\n",
        "clipraster(reprojected_rainy, \"amazon_rainy_season.tif\", amazonvesikondiriigid.geometry)"
      ]
    },
    {
      "cell_type": "markdown",
      "metadata": {
        "id": "C9ogYUp_fQmS"
      },
      "source": [
        "*   Raster Zonal Statistics"
      ]
    },
    {
      "cell_type": "code",
      "execution_count": 34,
      "metadata": {
        "id": "Vx3tEzlCYt-8"
      },
      "outputs": [],
      "source": [
        "rainyzs = zonal_stats(amazonvesikondiriigid, 'amazon_rainy_season.tif', stats=['mean','sum', 'min', 'max','std', 'range'])\n",
        "dryzs = zonal_stats(amazonvesikondiriigid, 'amazon_dry_season.tif', stats=['mean','sum', 'min', 'max','std', 'range'])"
      ]
    },
    {
      "cell_type": "markdown",
      "metadata": {
        "id": "iIrkqsYgfaOX"
      },
      "source": [
        "*   For Rainy Season"
      ]
    },
    {
      "cell_type": "code",
      "execution_count": 35,
      "metadata": {
        "id": "wVGdN4BLYt8r"
      },
      "outputs": [],
      "source": [
        "rainy_stats = pd.DataFrame(rainyzs)\n",
        "\n",
        "rainy_stats.rename(columns={'mean':'prep_mean',\n",
        "                              'sum':'prep_sum',\n",
        "                              'min':'prep_min',\n",
        "                              'max':'prep_max',\n",
        "                              'std':'prep_std',\n",
        "                              'range':'prep_range'}, inplace=True)\n",
        "\n",
        "amazonvesikondiriigid = amazonvesikondiriigid.reset_index(drop=True)\n",
        "rainy_stats = rainy_stats.reset_index(drop=True)\n",
        "\n",
        "rainy_data = pd.concat([amazonvesikondiriigid, rainy_stats], axis=1)"
      ]
    },
    {
      "cell_type": "markdown",
      "metadata": {
        "id": "HPQlx79gfdos"
      },
      "source": [
        "*   For Dry Season"
      ]
    },
    {
      "cell_type": "code",
      "execution_count": 36,
      "metadata": {
        "id": "MfA80jBde4tq"
      },
      "outputs": [],
      "source": [
        "dry_stats = pd.DataFrame(dryzs)\n",
        "\n",
        "dry_stats.rename(columns={'mean':'prep_mean',\n",
        "                          'sum':'prep_sum',\n",
        "                          'min':'prep_min',\n",
        "                          'max':'prep_max',\n",
        "                          'std':'prep_std',\n",
        "                          'range':'prep_range'}, inplace=True)\n",
        "\n",
        "amazonvesikondiriigid = amazonvesikondiriigid.reset_index(drop=True)\n",
        "dry_stats = dry_stats.reset_index(drop=True)\n",
        "\n",
        "dry_data = pd.concat([amazonvesikondiriigid, dry_stats], axis=1)"
      ]
    },
    {
      "cell_type": "markdown",
      "metadata": {
        "id": "cyjz5plcoFnX"
      },
      "source": [
        "\n",
        "*   Calculate areas for basins"
      ]
    },
    {
      "cell_type": "code",
      "execution_count": 37,
      "metadata": {
        "id": "5mJxDSSLmK0p"
      },
      "outputs": [],
      "source": [
        "dry_data['Area_m2'] = dry_data['geometry'].area\n",
        "dry_data['Area_km2'] = dry_data['Area_m2'] / 1e6\n",
        "\n",
        "rainy_data['Area_m2'] = rainy_data['geometry'].area\n",
        "rainy_data['Area_km2'] = rainy_data['Area_m2'] / 1e6"
      ]
    },
    {
      "cell_type": "markdown",
      "metadata": {
        "id": "FTF1LizslrLZ"
      },
      "source": [
        "*   Calculate Average Precipitation/km2"
      ]
    },
    {
      "cell_type": "code",
      "execution_count": 38,
      "metadata": {
        "id": "s_6MoYBQmFqv"
      },
      "outputs": [],
      "source": [
        "rainy_data['average_precip_km2'] = rainy_data['prep_sum']/rainy_data['Area_km2']\n",
        "\n",
        "dry_data['average_precip_km2'] = dry_data['prep_sum']/dry_data['Area_km2']"
      ]
    },
    {
      "cell_type": "markdown",
      "metadata": {
        "id": "oqxY9ALMF68P"
      },
      "source": [
        "*   Comparison of Metrics\n",
        "\n"
      ]
    },
    {
      "cell_type": "code",
      "execution_count": 39,
      "metadata": {
        "id": "CXE5V0zV_u8S"
      },
      "outputs": [],
      "source": [
        "# Compare Mean Precipitation\n",
        "mean_comparison = pd.DataFrame({\n",
        "    'Season': ['Rainy', 'Dry'],\n",
        "    'Mean Precipitation': [rainy_stats['prep_mean'].mean(), dry_stats['prep_mean'].mean()]\n",
        "})\n",
        "\n",
        "# Compare Total Precipitation\n",
        "total_precipitation_comparison = pd.DataFrame({\n",
        "    'Season': ['Rainy', 'Dry'],\n",
        "    'Total Precipitation': [rainy_stats['prep_sum'].sum(), dry_stats['prep_sum'].sum()]\n",
        "})\n",
        "\n",
        "# Compare Variability (Standard Deviation)\n",
        "variability_comparison = pd.DataFrame({\n",
        "    'Season': ['Rainy', 'Dry'],\n",
        "    'Variability (Std Dev)': [rainy_stats['prep_std'].mean(), dry_stats['prep_std'].mean()]\n",
        "})\n",
        "\n",
        "# Compare Extreme Events (Min and Max)\n",
        "extreme_events_comparison = pd.DataFrame({\n",
        "    'Season': ['Rainy', 'Dry'],\n",
        "    'Min Precipitation': [rainy_stats['prep_min'].min(), dry_stats['prep_min'].min()],\n",
        "    'Max Precipitation': [rainy_stats['prep_max'].max(), dry_stats['prep_max'].max()]\n",
        "})\n",
        "\n",
        "# Compare Range of Precipitation\n",
        "range_comparison = pd.DataFrame({\n",
        "    'Season': ['Rainy', 'Dry'],\n",
        "    'Range': [rainy_stats['prep_range'].mean(), dry_stats['prep_range'].mean()]\n",
        "})\n",
        "\n",
        "max_dry_basin = dry_data.loc[dry_data['average_precip_km2'].idxmax()]\n",
        "max_rainy_basin = rainy_data.loc[rainy_data['average_precip_km2'].idxmax()]"
      ]
    },
    {
      "cell_type": "markdown",
      "metadata": {
        "id": "91n-k37nGODp"
      },
      "source": [
        "**TASK 2. RESULTS**"
      ]
    },
    {
      "cell_type": "code",
      "execution_count": 40,
      "metadata": {
        "colab": {
          "base_uri": "https://localhost:8080/"
        },
        "id": "DDcb3Z6eGOtN",
        "outputId": "f31df4e7-5eac-42f4-b0b1-67e3d31c7a43"
      },
      "outputs": [
        {
          "output_type": "stream",
          "name": "stdout",
          "text": [
            "\u001b[1m\n",
            "Basin with the Most Precipitation in Dry Season:\u001b[0m\n",
            "- Basin ID: 144\n",
            "- Country: Brazil\n",
            "- Maximum Precipitation (mm/Sq. km): 6.89\n",
            "\u001b[1m\n",
            "Basin with the Most Precipitation in Rainy Season:\u001b[0m\n",
            "- Basin ID: 88\n",
            "- Country: Brazil\n",
            "- Maximum Precipitation (mm/Sq. km): 6.19\n",
            "\u001b[1m\n",
            "Comparative Precipitation Metrics:\u001b[0m\n",
            "\n",
            "\u001b[1m\n",
            "Mean Precipitation\u001b[0m \u001b[1m\n",
            "Comparison:\u001b[0m\n",
            "  Season  Mean Precipitation\n",
            "0  Rainy              236.23\n",
            "1    Dry              136.33\n",
            "\n",
            "\u001b[1m\n",
            "Total Precipitation\u001b[0m \u001b[1m\n",
            "Comparison:\u001b[0m\n",
            "  Season  Total Precipitation\n",
            "0  Rainy          24980113.74\n",
            "1    Dry          14134955.70\n",
            "\n",
            "\u001b[1m\n",
            "Variability\u001b[0m \u001b[1m\n",
            "Comparison:\u001b[0m\n",
            "  Season  Variability (Std Dev)\n",
            "0  Rainy                  32.42\n",
            "1    Dry                  24.30\n",
            "\n",
            "\u001b[1m\n",
            "Extreme Events\u001b[0m \u001b[1m\n",
            "Comparison:\u001b[0m\n",
            "  Season  Min Precipitation  Max Precipitation\n",
            "0  Rainy               6.19             770.04\n",
            "1    Dry               0.70             761.94\n",
            "\n",
            "\u001b[1m\n",
            "Range of Precipitation\u001b[0m \u001b[1m\n",
            "Comparison:\u001b[0m\n",
            "  Season   Range\n",
            "0  Rainy  151.10\n",
            "1    Dry  119.42\n"
          ]
        }
      ],
      "source": [
        "print(\"\\033[1m\\nBasin with the Most Precipitation in Dry Season:\\033[0m\")\n",
        "print(\"- Basin ID:\", max_dry_basin['SORT'])\n",
        "print(\"- Country:\",vesikond_riigid.loc[vesikond_riigid['SORT'] == max_dry_basin['SORT'], 'NAME'].values[0])\n",
        "print(\"- Maximum Precipitation (mm/Sq. km):\", round(max_dry_basin['average_precip_km2'], 2))\n",
        "\n",
        "\n",
        "print(\"\\033[1m\\nBasin with the Most Precipitation in Rainy Season:\\033[0m\")\n",
        "print(\"- Basin ID:\", max_rainy_basin['SORT'])\n",
        "print(\"- Country:\",vesikond_riigid.loc[vesikond_riigid['SORT'] == max_rainy_basin['SORT'], 'NAME'].values[0])\n",
        "print(\"- Maximum Precipitation (mm/Sq. km):\", round(max_rainy_basin['average_precip_km2'], 2))\n",
        "\n",
        "print(\"\\033[1m\\nComparative Precipitation Metrics:\\033[0m\")\n",
        "def print_comparison(comparison_df, metric_name):\n",
        "    print(f\"\\n{metric_name} \\033[1m\\nComparison:\\033[0m\")\n",
        "    print(comparison_df.to_string())\n",
        "\n",
        "print_comparison(mean_comparison.round(2), \"\\033[1m\\nMean Precipitation\\033[0m\")\n",
        "print_comparison(total_precipitation_comparison.round(2), \"\\033[1m\\nTotal Precipitation\\033[0m\")\n",
        "print_comparison(variability_comparison.round(2), \"\\033[1m\\nVariability\\033[0m\")\n",
        "print_comparison(extreme_events_comparison.round(2), \"\\033[1m\\nExtreme Events\\033[0m\")\n",
        "print_comparison(range_comparison.round(2), \"\\033[1m\\nRange of Precipitation\\033[0m\")"
      ]
    },
    {
      "cell_type": "markdown",
      "metadata": {
        "id": "qAQczL06nZPF"
      },
      "source": [
        "# Task 3. Create an interesting, meaningful and beautiful STATIC map."
      ]
    },
    {
      "cell_type": "markdown",
      "metadata": {
        "id": "0hfaARQHnDnZ"
      },
      "source": [
        "###  Classification"
      ]
    },
    {
      "cell_type": "code",
      "execution_count": 41,
      "metadata": {
        "id": "Y68eIENOqoIW"
      },
      "outputs": [],
      "source": [
        "prep_column = ['average_precip_km2']"
      ]
    },
    {
      "cell_type": "code",
      "execution_count": 42,
      "metadata": {
        "id": "vKw_YC9gqdf8"
      },
      "outputs": [],
      "source": [
        "n_classes = 5"
      ]
    },
    {
      "cell_type": "code",
      "execution_count": 43,
      "metadata": {
        "id": "YttmWFNS8lGZ"
      },
      "outputs": [],
      "source": [
        "dry_data.dropna(subset=prep_column, inplace=True)\n",
        "\n",
        "\n",
        "for precipitation in prep_column:\n",
        "    classifier = Quantiles(dry_data[precipitation], k=n_classes)\n",
        "    dry_data[f'{precipitation}_class'] = classifier.yb\n",
        "\n",
        "\n",
        "rainy_data.dropna(subset=prep_column, inplace=True)\n",
        "\n",
        "for precipitation in prep_column:\n",
        "    classifier = Quantiles(rainy_data[precipitation], k=n_classes)\n",
        "    rainy_data[f'{precipitation}_class'] = classifier.yb"
      ]
    },
    {
      "cell_type": "code",
      "execution_count": 44,
      "metadata": {
        "id": "jqa6YwB9xLun"
      },
      "outputs": [],
      "source": [
        "dry_pmd = dry_data.rename(columns={'average_precip_km2_class':'averageprepkm2'})\n",
        "rainy_pmd = rainy_data.rename(columns={'average_precip_km2_class':'averageprepkm2'})"
      ]
    },
    {
      "cell_type": "markdown",
      "metadata": {
        "id": "zU_64nmcnOnU"
      },
      "source": [
        "For Rainy Season"
      ]
    },
    {
      "cell_type": "code",
      "execution_count": 45,
      "metadata": {
        "id": "yM1AWgcNqdZw"
      },
      "outputs": [],
      "source": [
        "legend_dict = collections.OrderedDict([])\n",
        "\n",
        "lst = [int(x) for x in np.linspace(0,255,5)]\n",
        "\n",
        "legend_dict = {}\n",
        "\n",
        "cmap = plt.get_cmap('Blues')\n",
        "\n",
        "rainy_mean_prep = rainy_pmd.groupby('averageprepkm2')\n",
        "\n",
        "i = 0\n",
        "\n",
        "for cl, pub in rainy_mean_prep:\n",
        "    minv = pub['average_precip_km2'].min()\n",
        "    if minv < 0:\n",
        "        minv = 0\n",
        "    else:\n",
        "        minv = round(minv, 2)\n",
        "\n",
        "    maxv = pub['average_precip_km2'].max()\n",
        "    if maxv < 0:\n",
        "        maxv = 0\n",
        "    else:\n",
        "        maxv = round(maxv, 2)\n",
        "        colour = cmap(lst)[i]\n",
        "    legend_dict.update({\"Class {}: {} - {}\".format(cl, minv, maxv): colour})\n",
        "    i = i + 1\n",
        "\n",
        "    patchList = []\n",
        "\n",
        "for key in legend_dict:\n",
        "      data_key = mpatches.Patch(color=legend_dict[key], label=key)\n",
        "      patchList.append(data_key)"
      ]
    },
    {
      "cell_type": "markdown",
      "metadata": {
        "id": "V9nuJiwMnSjS"
      },
      "source": [
        "For Dry Season"
      ]
    },
    {
      "cell_type": "code",
      "execution_count": 46,
      "metadata": {
        "id": "-SwT1wV08HYt"
      },
      "outputs": [],
      "source": [
        "legend_dict1 = collections.OrderedDict([])\n",
        "\n",
        "lst1 = [int(x) for x in np.linspace(0,255,5)]\n",
        "\n",
        "legend_dict1 = {}\n",
        "\n",
        "cmap1 = plt.get_cmap('BuPu')\n",
        "\n",
        "dry_mean_prep = dry_pmd.groupby('averageprepkm2')\n",
        "\n",
        "j = 0\n",
        "\n",
        "for cl, pub in dry_mean_prep:\n",
        "    minv = pub['average_precip_km2'].min()\n",
        "    if minv < 0:\n",
        "        minv = 0\n",
        "    else:\n",
        "        minv = round(minv, 2)\n",
        "\n",
        "    maxv = pub['average_precip_km2'].max()\n",
        "    if maxv < 0:\n",
        "        maxv = 0\n",
        "    else:\n",
        "        maxv = round(maxv, 2)\n",
        "        colour = cmap1(lst1)[j]\n",
        "    legend_dict1.update({\"Class {}: {} - {}\".format(cl, minv, maxv): colour})\n",
        "    j = j + 1\n",
        "\n",
        "    patchList1 = []\n",
        "\n",
        "for key1 in legend_dict1:\n",
        "      data_key1 = mpatches.Patch(color=legend_dict1[key1], label=key1)\n",
        "      patchList1.append(data_key1)"
      ]
    },
    {
      "cell_type": "markdown",
      "metadata": {
        "id": "wyjnoA6TIAJZ"
      },
      "source": [
        "**TASK 3. RESULTS**"
      ]
    },
    {
      "cell_type": "code",
      "execution_count": 47,
      "metadata": {
        "colab": {
          "base_uri": "https://localhost:8080/",
          "height": 583
        },
        "id": "KaaDxkhVXxLp",
        "outputId": "6f1008c1-4a9c-4ad2-9ae5-41f8389aa9f2"
      },
      "outputs": [
        {
          "output_type": "display_data",
          "data": {
            "text/plain": [
              "<Figure size 1500x500 with 3 Axes>"
            ],
            "image/png": "[encoded data removed]"
          },
          "metadata": {}
        }
      ],
      "source": [
        "fig = plt.figure(figsize=(15, 5))\n",
        "gs = gridspec.GridSpec(1, 3, width_ratios=[5, 2, 5])\n",
        "\n",
        "# Plot for Rainy Season\n",
        "ax1 = plt.subplot(gs[0])\n",
        "rainy_pmd.plot(ax=ax1, facecolor='none', edgecolor='k', linewidth=0.5)\n",
        "rainy_pmd.plot(column='averageprepkm2', cmap=cmap, ax=ax1, linewidth=0, legend=False)\n",
        "amazonjogi.plot(ax=ax1, color='red', linewidth=0.6)\n",
        "ax1.set_title('Rainy Season (Dec-May)', fontsize=10)\n",
        "ax1.legend(handles=patchList, fontsize=8, loc='lower center', title='Quantiles', title_fontsize=9, bbox_to_anchor=(0.5, -0.4), ncol=1)\n",
        "\n",
        "ax1.set_xlabel('Easting (SIRGAS 2000 / UTM zone 16N)', fontsize=6)\n",
        "ax1.set_ylabel('Northing (SIRGAS 2000 / UTM zone 16N)', fontsize=6)\n",
        "ax1.tick_params(axis='x', labelsize=4)\n",
        "ax1.tick_params(axis='y', labelsize=4)\n",
        "\n",
        "# Histogram\n",
        "hist_precipitation_column = \"average_precip_km2\"\n",
        "ax_hist = plt.subplot(gs[1])\n",
        "ax_hist.hist(rainy_pmd[hist_precipitation_column], bins=15, color='blue', alpha=0.7, label='Rainy Season', )\n",
        "ax_hist.hist(dry_pmd[hist_precipitation_column], bins=15, color='purple', alpha=0.7, label='Dry Season',  )\n",
        "ax_hist.set_title('Histogram', fontsize=10)\n",
        "ax_hist.set_xlabel('Average Precipitation \\n(mm/Sq. km)', fontsize=6)\n",
        "ax_hist.set_ylabel('Basins', fontsize=6)\n",
        "ax_hist.tick_params(axis='x', labelsize=4)\n",
        "ax_hist.tick_params(axis='y', labelsize=4)\n",
        "\n",
        "ax_hist.legend(loc='center', bbox_to_anchor=(0.5, -0.2), ncol=1,  fontsize=8)\n",
        "ax_hist.grid(False)\n",
        "\n",
        "ax_hist.yaxis.set_label_coords(-0.15, 0.5)\n",
        "ax_hist.xaxis.set_label_coords(0.5, -0.05)\n",
        "\n",
        "# Plot for Dry Season\n",
        "ax2 = plt.subplot(gs[2])\n",
        "dry_pmd.plot(ax=ax2, facecolor='none', edgecolor='k', linewidth=0.5)\n",
        "dry_pmd.plot(column='averageprepkm2', cmap=cmap1, ax=ax2, linewidth=0, legend=False)\n",
        "amazonjogi.plot(ax=ax2, color='red', linewidth=0.6)\n",
        "ax2.set_title('Dry Season (Jun-Nov)', fontsize=10)\n",
        "ax2.legend(handles=patchList1, fontsize=8, loc='lower center', title='Quantiles', title_fontsize=9, bbox_to_anchor=(0.5, -0.4), ncol=1)\n",
        "\n",
        "ax2.set_xlabel('Easting (SIRGAS 2000 / UTM zone 16N)', fontsize=6)\n",
        "ax2.set_ylabel('Northing (SIRGAS 2000 / UTM zone 16N)', fontsize=6)\n",
        "ax2.tick_params(axis='x', labelsize=4)\n",
        "ax2.tick_params(axis='y', labelsize=4)\n",
        "\n",
        "fig.suptitle('WorldClim Average Precipitation (mm) per Sq.km in Amazon River Basins - 2020 (EPSG:31970)', fontsize=12, fontweight='bold')\n",
        "\n",
        "plt.savefig(\"amazonprecipitation_jcalderon.png\")\n",
        "\n",
        "plt.show()"
      ]
    }
  ],
  "metadata": {
    "colab": {
      "provenance": [],
      "include_colab_link": true
    },
    "kernelspec": {
      "display_name": "Python 3",
      "name": "python3"
    },
    "language_info": {
      "name": "python"
    }
  },
  "nbformat": 4,
  "nbformat_minor": 0
}